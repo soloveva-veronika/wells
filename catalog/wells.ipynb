{
 "cells": [
  {
   "cell_type": "markdown",
   "metadata": {},
   "source": [
    "# Выбор локации для скважины"
   ]
  },
  {
   "cell_type": "markdown",
   "metadata": {},
   "source": [
    "Допустим, вы работаете в добывающей компании «ГлавРосГосНефть». Нужно решить, где бурить новую скважину.\n",
    "\n",
    "Вам предоставлены пробы нефти в трёх регионах: в каждом 10 000 месторождений, где измерили качество нефти и объём её запасов. Постройте модель машинного обучения, которая поможет определить регион, где добыча принесёт наибольшую прибыль. Проанализируйте возможную прибыль и риски техникой *Bootstrap.*\n",
    "\n",
    "Шаги для выбора локации:\n",
    "\n",
    "- В избранном регионе ищут месторождения, для каждого определяют значения признаков;\n",
    "- Строят модель и оценивают объём запасов;\n",
    "- Выбирают месторождения с самым высокими оценками значений. Количество месторождений зависит от бюджета компании и стоимости разработки одной скважины;\n",
    "- Прибыль равна суммарной прибыли отобранных месторождений."
   ]
  },
  {
   "cell_type": "markdown",
   "metadata": {},
   "source": [
    "# Проект \"Определение оптимального региона для разработки новых скважин\"\n",
    "\n",
    "# Цель\n",
    "Определить регион, в котором добыча нефти принесет наибольшую прибыль, учитывая возможные риски.\n",
    "\n",
    "# Задачи\n",
    "1. Загрузить и подготовить данные о характеристиках скважин в трех регионах.\n",
    "2. Обучить и проверить модель линейной регрессии для каждого региона, используя 75% данных для обучения и 25% для валидации.\n",
    "3. Проанализировать результаты обучения моделей и сравнить средний запас предсказанного сырья и RMSE для каждого региона.\n",
    "4. Подготовиться к расчету прибыли, сохранив ключевые значения и рассчитав достаточный объем сырья для безубыточной разработки новой скважины.\n",
    "5. Написать функцию для расчета прибыли по выбранным скважинам и предсказаниям модели.\n",
    "6. Применить технику Bootstrap с 1000 выборок для нахождения распределения прибыли в каждом регионе и определения средней прибыли, 95%-го доверительного интервала и риска убытков.\n",
    "7. Предложить регион для разработки скважин, обосновав выбор на основе анализа рисков и прибыли.\n",
    "\n",
    "# Условия\n",
    "- Для обучения модели подходит только линейная регрессия.\n",
    "- При разведке региона исследуют 500 точек, из которых выбирают 200 лучших для разработки.\n",
    "- Бюджет на разработку скважин в регионе — 10 млрд рублей.\n",
    "- Доход с одной тысячи баррелей сырья составляет 450 тыс. рублей.\n",
    "- После оценки рисков нужно оставить только те регионы, в которых вероятность убытков меньше 2.5%. Среди них выбрать регион с наибольшей средней прибылью.\n",
    "- Данные синтетические, детали контрактов и характеристики месторождений не разглашаются. \n",
    "\n"
   ]
  },
  {
   "cell_type": "markdown",
   "metadata": {},
   "source": [
    "**Нам предоставлены пробы нефти в трёх регионах. Характеристики для каждой скважины в регионе уже известны.**\n",
    "\n",
    "**Данные геологоразведки трёх регионов находятся в файлах:**\n",
    "\n",
    "- geo_data_0.csv\n",
    "- geo_data_1.csv\n",
    "- geo_data_2.csv\n",
    "\n",
    "**Признаки:**\n",
    "\n",
    "- id — уникальный идентификатор скважины\n",
    "- f0, f1, f2 — три признака точек (неважно, что они означают, но сами признаки значимы)\n",
    "\n",
    "**Целевой признак:**\n",
    "\n",
    "- product — объём запасов в скважине (тыс. баррелей)"
   ]
  },
  {
   "cell_type": "markdown",
   "metadata": {},
   "source": [
    "## Загрузка и подготовка данных"
   ]
  },
  {
   "cell_type": "code",
   "execution_count": 1,
   "metadata": {},
   "outputs": [],
   "source": [
    "import pandas as pd\n",
    "import numpy as np\n",
    "import scipy.stats as st\n",
    "import matplotlib.pyplot as plt\n",
    "import seaborn as sns\n",
    "import warnings\n",
    "\n",
    "from tqdm import tqdm_notebook\n",
    "from tqdm import tqdm\n",
    "from tqdm import notebook\n",
    "from sklearn.preprocessing import StandardScaler\n",
    "from sklearn.pipeline import make_pipeline\n",
    "from sklearn.linear_model import LinearRegression\n",
    "from sklearn.model_selection import train_test_split\n",
    "from sklearn.metrics import mean_squared_error, mean_absolute_error\n"
   ]
  },
  {
   "cell_type": "code",
   "execution_count": 2,
   "metadata": {},
   "outputs": [
    {
     "data": {
      "text/html": [
       "<style>.container { width:90% !important; }</style>"
      ],
      "text/plain": [
       "<IPython.core.display.HTML object>"
      ]
     },
     "metadata": {},
     "output_type": "display_data"
    }
   ],
   "source": [
    "from IPython.core.display import display, HTML\n",
    "display(HTML(\"<style>.container { width:90% !important; }</style>\"))"
   ]
  },
  {
   "cell_type": "code",
   "execution_count": 3,
   "metadata": {},
   "outputs": [],
   "source": [
    "RANDOM_STATE = 42"
   ]
  },
  {
   "cell_type": "code",
   "execution_count": 4,
   "metadata": {},
   "outputs": [],
   "source": [
    "try:\n",
    "    df1 = pd.read_csv('/datasets/geo_data_0.csv')\n",
    "    df2 = pd.read_csv('/datasets/geo_data_1.csv')\n",
    "    df3 = pd.read_csv('/datasets/geo_data_2.csv')\n",
    "    \n",
    "except:\n",
    "    df1 = pd.read_csv('geo_data_0.csv')\n",
    "    df2 = pd.read_csv('geo_data_1.csv')\n",
    "    df3 = pd.read_csv('geo_data_2.csv')"
   ]
  },
  {
   "cell_type": "code",
   "execution_count": 5,
   "metadata": {},
   "outputs": [],
   "source": [
    "def analyze(df, name):\n",
    "    \"\"\"\n",
    "    Функция для анализа датафрейма\n",
    "    :param df: датафрейм для анализа\n",
    "    :param name: имя датафрейма\n",
    "    \"\"\"\n",
    "    print(f\"\\nАнализ DataFrame: {name}\\n\")\n",
    "    \n",
    "    # 1. Общая информация о DataFrame\n",
    "    print(\"Общая информация:\")\n",
    "    display(df.head())\n",
    "    display(df.info())\n",
    "\n",
    "    # 2. Описательная статистика\n",
    "    print(\"Описательная статистика:\")\n",
    "    display(df.describe(include='all'))\n",
    "\n",
    "    # 3. Анализ по каждому столбцу\n",
    "    for col in df.columns:\n",
    "        print('-' * 30)\n",
    "        print(f\"Анализ столбца: {col}\")\n",
    "\n",
    "        # 3.1 Тип данных и количество уникальных значений\n",
    "        dtype = df[col].dtype\n",
    "        num_unique = df[col].nunique()\n",
    "        print(f\"Тип данных: {dtype}, Количество уникальных значений: {num_unique}\")\n",
    "\n",
    "        # 3.2 Уникальные значения (отсортированные) - вывод только если мало уникальных значений\n",
    "        if num_unique <= 20:\n",
    "            unique_values = df[col].sort_values().unique()\n",
    "            print(f\"Уникальные значения: {unique_values}\")\n",
    "        elif num_unique <= 50:  # Вывод первых и последних 10 значений, если их не слишком много\n",
    "            unique_values = df[col].sort_values().unique()\n",
    "            print(f\"Первые 10 уникальных значений: {unique_values[:10]}\")\n",
    "            print(f\"Последние 10 уникальных значений: {unique_values[-10:]}\")\n",
    "\n",
    "        # 3.3 Количество и процент пропущенных значений (NaN, None)\n",
    "        num_missing = df[col].isnull().sum()\n",
    "        percent_missing = round(df[col].isnull().mean() * 100, 2)\n",
    "        print(f\"Количество пропущенных значений (NaN, None): {num_missing}, Процент: {percent_missing}%\")\n",
    "\n",
    "        # 3.4 Количество и процент нулевых значений - только для числовых\n",
    "        if pd.api.types.is_numeric_dtype(dtype):\n",
    "            num_zeros = (df[col] == 0).sum()\n",
    "            percent_zeros = round(num_zeros / len(df) * 100, 2)\n",
    "            print(f\"Количество 0: {num_zeros}, Процент 0: {percent_zeros}%\")\n",
    "\n",
    "        # 3.5 Проверка пропусков для текстовых столбцов (пустые строки и пробелы)\n",
    "        if pd.api.types.is_string_dtype(dtype):\n",
    "            num_empty = (df[col] == \"\").sum() + (df[col] == \" \").sum()\n",
    "            percent_empty = round(num_empty / len(df) * 100, 2)\n",
    "            print(f\"Количество пустых строк и пробелов: {num_empty}, Процент: {percent_empty}%\")\n",
    "\n",
    "        print('-' * 30, \"\\n\")\n",
    "\n",
    "    # 4. Проверка полных дублей\n",
    "    num_duplicates = df.duplicated().sum()\n",
    "    percent_duplicates = round(num_duplicates / len(df) * 100, 2)\n",
    "    print(f\"Количество полных дублей: {num_duplicates}, Процент полных дублей: {percent_duplicates}%\")\n"
   ]
  },
  {
   "cell_type": "code",
   "execution_count": 6,
   "metadata": {},
   "outputs": [],
   "source": [
    "# функция, для создания графиков распределений \n",
    "def optimal_bins(data):\n",
    "    \"\"\"Вычисляет оптимальное количество корзин для гистограммы по правилу Стерджена.\"\"\"\n",
    "    n = len(data)\n",
    "    return int(np.ceil(np.sqrt(n)))\n",
    "\n",
    "# Функция для построения гистограмм и ящиков с усами\n",
    "def plot_distribution(df, columns):\n",
    "    \"\"\"\n",
    "    Строит гистограммы и ящики с усами для указанных столбцов датафрейма.\n",
    "    Оптимальное количество корзин вычисляется по правилу Стерджена.\n",
    "    \"\"\"\n",
    "    num_cols = len(columns)\n",
    "    sns.set(style=\"whitegrid\")  # Настройка стиля графиков\n",
    "    fig, axes = plt.subplots(num_cols, 2, figsize=(14, 5 * num_cols))\n",
    "    \n",
    "    if num_cols == 1:\n",
    "        axes = [axes]\n",
    "    colors = ['#1f77b4', '#ff7f0e', '#2ca02c', '#d62728', '#9467bd']  # Цвета для различных столбцов\n",
    "    for i, col in enumerate(columns):\n",
    "        # Оптимальное количество корзин\n",
    "        bins = optimal_bins(df[col])\n",
    "        \n",
    "        # Гистограмма\n",
    "        hist_data = df[col]\n",
    "        sns.histplot(hist_data, bins=bins, kde=True, ax=axes[i, 0], color=colors[i], edgecolor='black')\n",
    "        \n",
    "        # Добавление средних и медианных линий\n",
    "        mean = hist_data.mean()\n",
    "        median = hist_data.median()\n",
    "        axes[i, 0].axvline(mean, color='red', linestyle='dashed', linewidth=1.5, label=f'Среднее: {mean:.2f}')\n",
    "        axes[i, 0].axvline(median, color='green', linestyle='dashed', linewidth=1.5, label=f'Медиана: {median:.2f}')\n",
    "        \n",
    "        # Оформление графика\n",
    "        axes[i, 0].set_title(f'Гистограмма распределения: {col}', fontsize=14)\n",
    "        axes[i, 0].set_xlabel(col, fontsize=12)\n",
    "        axes[i, 0].set_ylabel('Частота', fontsize=12)\n",
    "        axes[i, 0].legend()\n",
    "        axes[i, 0].grid(True, linestyle='--', alpha=0.7)\n",
    "        \n",
    "        # Ящик с усами\n",
    "        sns.boxplot(x=hist_data, ax=axes[i, 1], color=colors[i])\n",
    "        axes[i, 1].set_title(f'Ящик с усами: {col}', fontsize=14)\n",
    "        axes[i, 1].set_xlabel(col, fontsize=12)\n",
    "        axes[i, 1].grid(True, linestyle='--', alpha=0.7)\n",
    "    \n",
    "    plt.tight_layout()\n",
    "    plt.show()\n"
   ]
  },
  {
   "cell_type": "code",
   "execution_count": 7,
   "metadata": {},
   "outputs": [],
   "source": [
    "def corr_matrix(data):    \n",
    "    corr_matrix = data.corr()\n",
    "    display(corr_matrix)\n",
    "    fig, ax = plt.subplots(figsize=(15, 6))\n",
    "    sns.heatmap(corr_matrix, annot=True, cmap=\"coolwarm\");\n",
    "    plt.show()"
   ]
  },
  {
   "cell_type": "code",
   "execution_count": 8,
   "metadata": {},
   "outputs": [],
   "source": [
    "# Функция для обучения и проверки модели\n",
    "def train_and_evaluate_model(X, y, name):\n",
    "    X_train, X_val, y_train, y_val = train_test_split(X, y, test_size=0.25, random_state=RANDOM_STATE)\n",
    "\n",
    "    model = LinearRegression()\n",
    "    model.fit(X_train, y_train)\n",
    "\n",
    "    predictions = model.predict(X_val)\n",
    "    rmse = mean_squared_error(y_val, predictions, squared=False)\n",
    "    mae = mean_absolute_error(y_val, predictions)\n",
    "\n",
    "    print(f\"\\nРезультаты для региона {name}:\")\n",
    "    print(f\"Средний запас предсказанного сырья: {predictions.mean():.2f}\")\n",
    "    print(f\"RMSE: {rmse:.2f}\")\n",
    "    print(f\"MAE: {mae:.2f}\\n\")\n",
    "\n",
    "    return predictions, y_val\n"
   ]
  },
  {
   "cell_type": "code",
   "execution_count": 9,
   "metadata": {},
   "outputs": [
    {
     "name": "stdout",
     "output_type": "stream",
     "text": [
      "\n",
      "Анализ DataFrame: geo_data_0.csv\n",
      "\n",
      "Общая информация:\n"
     ]
    },
    {
     "data": {
      "text/html": [
       "<div>\n",
       "<style scoped>\n",
       "    .dataframe tbody tr th:only-of-type {\n",
       "        vertical-align: middle;\n",
       "    }\n",
       "\n",
       "    .dataframe tbody tr th {\n",
       "        vertical-align: top;\n",
       "    }\n",
       "\n",
       "    .dataframe thead th {\n",
       "        text-align: right;\n",
       "    }\n",
       "</style>\n",
       "<table border=\"1\" class=\"dataframe\">\n",
       "  <thead>\n",
       "    <tr style=\"text-align: right;\">\n",
       "      <th></th>\n",
       "      <th>id</th>\n",
       "      <th>f0</th>\n",
       "      <th>f1</th>\n",
       "      <th>f2</th>\n",
       "      <th>product</th>\n",
       "    </tr>\n",
       "  </thead>\n",
       "  <tbody>\n",
       "    <tr>\n",
       "      <th>0</th>\n",
       "      <td>txEyH</td>\n",
       "      <td>0.705745</td>\n",
       "      <td>-0.497823</td>\n",
       "      <td>1.221170</td>\n",
       "      <td>105.280062</td>\n",
       "    </tr>\n",
       "    <tr>\n",
       "      <th>1</th>\n",
       "      <td>2acmU</td>\n",
       "      <td>1.334711</td>\n",
       "      <td>-0.340164</td>\n",
       "      <td>4.365080</td>\n",
       "      <td>73.037750</td>\n",
       "    </tr>\n",
       "    <tr>\n",
       "      <th>2</th>\n",
       "      <td>409Wp</td>\n",
       "      <td>1.022732</td>\n",
       "      <td>0.151990</td>\n",
       "      <td>1.419926</td>\n",
       "      <td>85.265647</td>\n",
       "    </tr>\n",
       "    <tr>\n",
       "      <th>3</th>\n",
       "      <td>iJLyR</td>\n",
       "      <td>-0.032172</td>\n",
       "      <td>0.139033</td>\n",
       "      <td>2.978566</td>\n",
       "      <td>168.620776</td>\n",
       "    </tr>\n",
       "    <tr>\n",
       "      <th>4</th>\n",
       "      <td>Xdl7t</td>\n",
       "      <td>1.988431</td>\n",
       "      <td>0.155413</td>\n",
       "      <td>4.751769</td>\n",
       "      <td>154.036647</td>\n",
       "    </tr>\n",
       "  </tbody>\n",
       "</table>\n",
       "</div>"
      ],
      "text/plain": [
       "      id        f0        f1        f2     product\n",
       "0  txEyH  0.705745 -0.497823  1.221170  105.280062\n",
       "1  2acmU  1.334711 -0.340164  4.365080   73.037750\n",
       "2  409Wp  1.022732  0.151990  1.419926   85.265647\n",
       "3  iJLyR -0.032172  0.139033  2.978566  168.620776\n",
       "4  Xdl7t  1.988431  0.155413  4.751769  154.036647"
      ]
     },
     "metadata": {},
     "output_type": "display_data"
    },
    {
     "name": "stdout",
     "output_type": "stream",
     "text": [
      "<class 'pandas.core.frame.DataFrame'>\n",
      "RangeIndex: 100000 entries, 0 to 99999\n",
      "Data columns (total 5 columns):\n",
      " #   Column   Non-Null Count   Dtype  \n",
      "---  ------   --------------   -----  \n",
      " 0   id       100000 non-null  object \n",
      " 1   f0       100000 non-null  float64\n",
      " 2   f1       100000 non-null  float64\n",
      " 3   f2       100000 non-null  float64\n",
      " 4   product  100000 non-null  float64\n",
      "dtypes: float64(4), object(1)\n",
      "memory usage: 3.8+ MB\n"
     ]
    },
    {
     "data": {
      "text/plain": [
       "None"
      ]
     },
     "metadata": {},
     "output_type": "display_data"
    },
    {
     "name": "stdout",
     "output_type": "stream",
     "text": [
      "Описательная статистика:\n"
     ]
    },
    {
     "data": {
      "text/html": [
       "<div>\n",
       "<style scoped>\n",
       "    .dataframe tbody tr th:only-of-type {\n",
       "        vertical-align: middle;\n",
       "    }\n",
       "\n",
       "    .dataframe tbody tr th {\n",
       "        vertical-align: top;\n",
       "    }\n",
       "\n",
       "    .dataframe thead th {\n",
       "        text-align: right;\n",
       "    }\n",
       "</style>\n",
       "<table border=\"1\" class=\"dataframe\">\n",
       "  <thead>\n",
       "    <tr style=\"text-align: right;\">\n",
       "      <th></th>\n",
       "      <th>id</th>\n",
       "      <th>f0</th>\n",
       "      <th>f1</th>\n",
       "      <th>f2</th>\n",
       "      <th>product</th>\n",
       "    </tr>\n",
       "  </thead>\n",
       "  <tbody>\n",
       "    <tr>\n",
       "      <th>count</th>\n",
       "      <td>100000</td>\n",
       "      <td>100000.000000</td>\n",
       "      <td>100000.000000</td>\n",
       "      <td>100000.000000</td>\n",
       "      <td>100000.000000</td>\n",
       "    </tr>\n",
       "    <tr>\n",
       "      <th>unique</th>\n",
       "      <td>99990</td>\n",
       "      <td>NaN</td>\n",
       "      <td>NaN</td>\n",
       "      <td>NaN</td>\n",
       "      <td>NaN</td>\n",
       "    </tr>\n",
       "    <tr>\n",
       "      <th>top</th>\n",
       "      <td>74z30</td>\n",
       "      <td>NaN</td>\n",
       "      <td>NaN</td>\n",
       "      <td>NaN</td>\n",
       "      <td>NaN</td>\n",
       "    </tr>\n",
       "    <tr>\n",
       "      <th>freq</th>\n",
       "      <td>2</td>\n",
       "      <td>NaN</td>\n",
       "      <td>NaN</td>\n",
       "      <td>NaN</td>\n",
       "      <td>NaN</td>\n",
       "    </tr>\n",
       "    <tr>\n",
       "      <th>mean</th>\n",
       "      <td>NaN</td>\n",
       "      <td>0.500419</td>\n",
       "      <td>0.250143</td>\n",
       "      <td>2.502647</td>\n",
       "      <td>92.500000</td>\n",
       "    </tr>\n",
       "    <tr>\n",
       "      <th>std</th>\n",
       "      <td>NaN</td>\n",
       "      <td>0.871832</td>\n",
       "      <td>0.504433</td>\n",
       "      <td>3.248248</td>\n",
       "      <td>44.288691</td>\n",
       "    </tr>\n",
       "    <tr>\n",
       "      <th>min</th>\n",
       "      <td>NaN</td>\n",
       "      <td>-1.408605</td>\n",
       "      <td>-0.848218</td>\n",
       "      <td>-12.088328</td>\n",
       "      <td>0.000000</td>\n",
       "    </tr>\n",
       "    <tr>\n",
       "      <th>25%</th>\n",
       "      <td>NaN</td>\n",
       "      <td>-0.072580</td>\n",
       "      <td>-0.200881</td>\n",
       "      <td>0.287748</td>\n",
       "      <td>56.497507</td>\n",
       "    </tr>\n",
       "    <tr>\n",
       "      <th>50%</th>\n",
       "      <td>NaN</td>\n",
       "      <td>0.502360</td>\n",
       "      <td>0.250252</td>\n",
       "      <td>2.515969</td>\n",
       "      <td>91.849972</td>\n",
       "    </tr>\n",
       "    <tr>\n",
       "      <th>75%</th>\n",
       "      <td>NaN</td>\n",
       "      <td>1.073581</td>\n",
       "      <td>0.700646</td>\n",
       "      <td>4.715088</td>\n",
       "      <td>128.564089</td>\n",
       "    </tr>\n",
       "    <tr>\n",
       "      <th>max</th>\n",
       "      <td>NaN</td>\n",
       "      <td>2.362331</td>\n",
       "      <td>1.343769</td>\n",
       "      <td>16.003790</td>\n",
       "      <td>185.364347</td>\n",
       "    </tr>\n",
       "  </tbody>\n",
       "</table>\n",
       "</div>"
      ],
      "text/plain": [
       "            id             f0             f1             f2        product\n",
       "count   100000  100000.000000  100000.000000  100000.000000  100000.000000\n",
       "unique   99990            NaN            NaN            NaN            NaN\n",
       "top      74z30            NaN            NaN            NaN            NaN\n",
       "freq         2            NaN            NaN            NaN            NaN\n",
       "mean       NaN       0.500419       0.250143       2.502647      92.500000\n",
       "std        NaN       0.871832       0.504433       3.248248      44.288691\n",
       "min        NaN      -1.408605      -0.848218     -12.088328       0.000000\n",
       "25%        NaN      -0.072580      -0.200881       0.287748      56.497507\n",
       "50%        NaN       0.502360       0.250252       2.515969      91.849972\n",
       "75%        NaN       1.073581       0.700646       4.715088     128.564089\n",
       "max        NaN       2.362331       1.343769      16.003790     185.364347"
      ]
     },
     "metadata": {},
     "output_type": "display_data"
    },
    {
     "name": "stdout",
     "output_type": "stream",
     "text": [
      "------------------------------\n",
      "Анализ столбца: id\n",
      "Тип данных: object, Количество уникальных значений: 99990\n",
      "Количество пропущенных значений (NaN, None): 0, Процент: 0.0%\n",
      "Количество пустых строк и пробелов: 0, Процент: 0.0%\n",
      "------------------------------ \n",
      "\n",
      "------------------------------\n",
      "Анализ столбца: f0\n",
      "Тип данных: float64, Количество уникальных значений: 100000\n",
      "Количество пропущенных значений (NaN, None): 0, Процент: 0.0%\n",
      "Количество 0: 0, Процент 0: 0.0%\n",
      "------------------------------ \n",
      "\n",
      "------------------------------\n",
      "Анализ столбца: f1\n",
      "Тип данных: float64, Количество уникальных значений: 100000\n",
      "Количество пропущенных значений (NaN, None): 0, Процент: 0.0%\n",
      "Количество 0: 0, Процент 0: 0.0%\n",
      "------------------------------ \n",
      "\n",
      "------------------------------\n",
      "Анализ столбца: f2\n",
      "Тип данных: float64, Количество уникальных значений: 100000\n",
      "Количество пропущенных значений (NaN, None): 0, Процент: 0.0%\n",
      "Количество 0: 0, Процент 0: 0.0%\n",
      "------------------------------ \n",
      "\n",
      "------------------------------\n",
      "Анализ столбца: product\n",
      "Тип данных: float64, Количество уникальных значений: 100000\n",
      "Количество пропущенных значений (NaN, None): 0, Процент: 0.0%\n",
      "Количество 0: 1, Процент 0: 0.0%\n",
      "------------------------------ \n",
      "\n",
      "Количество полных дублей: 0, Процент полных дублей: 0.0%\n"
     ]
    }
   ],
   "source": [
    "analyze(df1, 'geo_data_0.csv')"
   ]
  },
  {
   "cell_type": "code",
   "execution_count": 10,
   "metadata": {},
   "outputs": [
    {
     "name": "stdout",
     "output_type": "stream",
     "text": [
      "\n",
      "Анализ DataFrame: geo_data_1.csv\n",
      "\n",
      "Общая информация:\n"
     ]
    },
    {
     "data": {
      "text/html": [
       "<div>\n",
       "<style scoped>\n",
       "    .dataframe tbody tr th:only-of-type {\n",
       "        vertical-align: middle;\n",
       "    }\n",
       "\n",
       "    .dataframe tbody tr th {\n",
       "        vertical-align: top;\n",
       "    }\n",
       "\n",
       "    .dataframe thead th {\n",
       "        text-align: right;\n",
       "    }\n",
       "</style>\n",
       "<table border=\"1\" class=\"dataframe\">\n",
       "  <thead>\n",
       "    <tr style=\"text-align: right;\">\n",
       "      <th></th>\n",
       "      <th>id</th>\n",
       "      <th>f0</th>\n",
       "      <th>f1</th>\n",
       "      <th>f2</th>\n",
       "      <th>product</th>\n",
       "    </tr>\n",
       "  </thead>\n",
       "  <tbody>\n",
       "    <tr>\n",
       "      <th>0</th>\n",
       "      <td>kBEdx</td>\n",
       "      <td>-15.001348</td>\n",
       "      <td>-8.276000</td>\n",
       "      <td>-0.005876</td>\n",
       "      <td>3.179103</td>\n",
       "    </tr>\n",
       "    <tr>\n",
       "      <th>1</th>\n",
       "      <td>62mP7</td>\n",
       "      <td>14.272088</td>\n",
       "      <td>-3.475083</td>\n",
       "      <td>0.999183</td>\n",
       "      <td>26.953261</td>\n",
       "    </tr>\n",
       "    <tr>\n",
       "      <th>2</th>\n",
       "      <td>vyE1P</td>\n",
       "      <td>6.263187</td>\n",
       "      <td>-5.948386</td>\n",
       "      <td>5.001160</td>\n",
       "      <td>134.766305</td>\n",
       "    </tr>\n",
       "    <tr>\n",
       "      <th>3</th>\n",
       "      <td>KcrkZ</td>\n",
       "      <td>-13.081196</td>\n",
       "      <td>-11.506057</td>\n",
       "      <td>4.999415</td>\n",
       "      <td>137.945408</td>\n",
       "    </tr>\n",
       "    <tr>\n",
       "      <th>4</th>\n",
       "      <td>AHL4O</td>\n",
       "      <td>12.702195</td>\n",
       "      <td>-8.147433</td>\n",
       "      <td>5.004363</td>\n",
       "      <td>134.766305</td>\n",
       "    </tr>\n",
       "  </tbody>\n",
       "</table>\n",
       "</div>"
      ],
      "text/plain": [
       "      id         f0         f1        f2     product\n",
       "0  kBEdx -15.001348  -8.276000 -0.005876    3.179103\n",
       "1  62mP7  14.272088  -3.475083  0.999183   26.953261\n",
       "2  vyE1P   6.263187  -5.948386  5.001160  134.766305\n",
       "3  KcrkZ -13.081196 -11.506057  4.999415  137.945408\n",
       "4  AHL4O  12.702195  -8.147433  5.004363  134.766305"
      ]
     },
     "metadata": {},
     "output_type": "display_data"
    },
    {
     "name": "stdout",
     "output_type": "stream",
     "text": [
      "<class 'pandas.core.frame.DataFrame'>\n",
      "RangeIndex: 100000 entries, 0 to 99999\n",
      "Data columns (total 5 columns):\n",
      " #   Column   Non-Null Count   Dtype  \n",
      "---  ------   --------------   -----  \n",
      " 0   id       100000 non-null  object \n",
      " 1   f0       100000 non-null  float64\n",
      " 2   f1       100000 non-null  float64\n",
      " 3   f2       100000 non-null  float64\n",
      " 4   product  100000 non-null  float64\n",
      "dtypes: float64(4), object(1)\n",
      "memory usage: 3.8+ MB\n"
     ]
    },
    {
     "data": {
      "text/plain": [
       "None"
      ]
     },
     "metadata": {},
     "output_type": "display_data"
    },
    {
     "name": "stdout",
     "output_type": "stream",
     "text": [
      "Описательная статистика:\n"
     ]
    },
    {
     "data": {
      "text/html": [
       "<div>\n",
       "<style scoped>\n",
       "    .dataframe tbody tr th:only-of-type {\n",
       "        vertical-align: middle;\n",
       "    }\n",
       "\n",
       "    .dataframe tbody tr th {\n",
       "        vertical-align: top;\n",
       "    }\n",
       "\n",
       "    .dataframe thead th {\n",
       "        text-align: right;\n",
       "    }\n",
       "</style>\n",
       "<table border=\"1\" class=\"dataframe\">\n",
       "  <thead>\n",
       "    <tr style=\"text-align: right;\">\n",
       "      <th></th>\n",
       "      <th>id</th>\n",
       "      <th>f0</th>\n",
       "      <th>f1</th>\n",
       "      <th>f2</th>\n",
       "      <th>product</th>\n",
       "    </tr>\n",
       "  </thead>\n",
       "  <tbody>\n",
       "    <tr>\n",
       "      <th>count</th>\n",
       "      <td>100000</td>\n",
       "      <td>100000.000000</td>\n",
       "      <td>100000.000000</td>\n",
       "      <td>100000.000000</td>\n",
       "      <td>100000.000000</td>\n",
       "    </tr>\n",
       "    <tr>\n",
       "      <th>unique</th>\n",
       "      <td>99996</td>\n",
       "      <td>NaN</td>\n",
       "      <td>NaN</td>\n",
       "      <td>NaN</td>\n",
       "      <td>NaN</td>\n",
       "    </tr>\n",
       "    <tr>\n",
       "      <th>top</th>\n",
       "      <td>bfPNe</td>\n",
       "      <td>NaN</td>\n",
       "      <td>NaN</td>\n",
       "      <td>NaN</td>\n",
       "      <td>NaN</td>\n",
       "    </tr>\n",
       "    <tr>\n",
       "      <th>freq</th>\n",
       "      <td>2</td>\n",
       "      <td>NaN</td>\n",
       "      <td>NaN</td>\n",
       "      <td>NaN</td>\n",
       "      <td>NaN</td>\n",
       "    </tr>\n",
       "    <tr>\n",
       "      <th>mean</th>\n",
       "      <td>NaN</td>\n",
       "      <td>1.141296</td>\n",
       "      <td>-4.796579</td>\n",
       "      <td>2.494541</td>\n",
       "      <td>68.825000</td>\n",
       "    </tr>\n",
       "    <tr>\n",
       "      <th>std</th>\n",
       "      <td>NaN</td>\n",
       "      <td>8.965932</td>\n",
       "      <td>5.119872</td>\n",
       "      <td>1.703572</td>\n",
       "      <td>45.944423</td>\n",
       "    </tr>\n",
       "    <tr>\n",
       "      <th>min</th>\n",
       "      <td>NaN</td>\n",
       "      <td>-31.609576</td>\n",
       "      <td>-26.358598</td>\n",
       "      <td>-0.018144</td>\n",
       "      <td>0.000000</td>\n",
       "    </tr>\n",
       "    <tr>\n",
       "      <th>25%</th>\n",
       "      <td>NaN</td>\n",
       "      <td>-6.298551</td>\n",
       "      <td>-8.267985</td>\n",
       "      <td>1.000021</td>\n",
       "      <td>26.953261</td>\n",
       "    </tr>\n",
       "    <tr>\n",
       "      <th>50%</th>\n",
       "      <td>NaN</td>\n",
       "      <td>1.153055</td>\n",
       "      <td>-4.813172</td>\n",
       "      <td>2.011479</td>\n",
       "      <td>57.085625</td>\n",
       "    </tr>\n",
       "    <tr>\n",
       "      <th>75%</th>\n",
       "      <td>NaN</td>\n",
       "      <td>8.621015</td>\n",
       "      <td>-1.332816</td>\n",
       "      <td>3.999904</td>\n",
       "      <td>107.813044</td>\n",
       "    </tr>\n",
       "    <tr>\n",
       "      <th>max</th>\n",
       "      <td>NaN</td>\n",
       "      <td>29.421755</td>\n",
       "      <td>18.734063</td>\n",
       "      <td>5.019721</td>\n",
       "      <td>137.945408</td>\n",
       "    </tr>\n",
       "  </tbody>\n",
       "</table>\n",
       "</div>"
      ],
      "text/plain": [
       "            id             f0             f1             f2        product\n",
       "count   100000  100000.000000  100000.000000  100000.000000  100000.000000\n",
       "unique   99996            NaN            NaN            NaN            NaN\n",
       "top      bfPNe            NaN            NaN            NaN            NaN\n",
       "freq         2            NaN            NaN            NaN            NaN\n",
       "mean       NaN       1.141296      -4.796579       2.494541      68.825000\n",
       "std        NaN       8.965932       5.119872       1.703572      45.944423\n",
       "min        NaN     -31.609576     -26.358598      -0.018144       0.000000\n",
       "25%        NaN      -6.298551      -8.267985       1.000021      26.953261\n",
       "50%        NaN       1.153055      -4.813172       2.011479      57.085625\n",
       "75%        NaN       8.621015      -1.332816       3.999904     107.813044\n",
       "max        NaN      29.421755      18.734063       5.019721     137.945408"
      ]
     },
     "metadata": {},
     "output_type": "display_data"
    },
    {
     "name": "stdout",
     "output_type": "stream",
     "text": [
      "------------------------------\n",
      "Анализ столбца: id\n",
      "Тип данных: object, Количество уникальных значений: 99996\n",
      "Количество пропущенных значений (NaN, None): 0, Процент: 0.0%\n",
      "Количество пустых строк и пробелов: 0, Процент: 0.0%\n",
      "------------------------------ \n",
      "\n",
      "------------------------------\n",
      "Анализ столбца: f0\n",
      "Тип данных: float64, Количество уникальных значений: 100000\n",
      "Количество пропущенных значений (NaN, None): 0, Процент: 0.0%\n",
      "Количество 0: 0, Процент 0: 0.0%\n",
      "------------------------------ \n",
      "\n",
      "------------------------------\n",
      "Анализ столбца: f1\n",
      "Тип данных: float64, Количество уникальных значений: 100000\n",
      "Количество пропущенных значений (NaN, None): 0, Процент: 0.0%\n",
      "Количество 0: 0, Процент 0: 0.0%\n",
      "------------------------------ \n",
      "\n",
      "------------------------------\n",
      "Анализ столбца: f2\n",
      "Тип данных: float64, Количество уникальных значений: 100000\n",
      "Количество пропущенных значений (NaN, None): 0, Процент: 0.0%\n",
      "Количество 0: 0, Процент 0: 0.0%\n",
      "------------------------------ \n",
      "\n",
      "------------------------------\n",
      "Анализ столбца: product\n",
      "Тип данных: float64, Количество уникальных значений: 12\n",
      "Уникальные значения: [  0.           3.17910258  26.95326103  30.13236361  53.90652206\n",
      "  57.08562465  80.85978309  84.03888568 107.81304413 110.99214671\n",
      " 134.76630516 137.94540774]\n",
      "Количество пропущенных значений (NaN, None): 0, Процент: 0.0%\n",
      "Количество 0: 8235, Процент 0: 8.24%\n",
      "------------------------------ \n",
      "\n",
      "Количество полных дублей: 0, Процент полных дублей: 0.0%\n"
     ]
    }
   ],
   "source": [
    "analyze(df2, 'geo_data_1.csv')"
   ]
  },
  {
   "cell_type": "code",
   "execution_count": 11,
   "metadata": {},
   "outputs": [
    {
     "name": "stdout",
     "output_type": "stream",
     "text": [
      "\n",
      "Анализ DataFrame: geo_data_2.csv\n",
      "\n",
      "Общая информация:\n"
     ]
    },
    {
     "data": {
      "text/html": [
       "<div>\n",
       "<style scoped>\n",
       "    .dataframe tbody tr th:only-of-type {\n",
       "        vertical-align: middle;\n",
       "    }\n",
       "\n",
       "    .dataframe tbody tr th {\n",
       "        vertical-align: top;\n",
       "    }\n",
       "\n",
       "    .dataframe thead th {\n",
       "        text-align: right;\n",
       "    }\n",
       "</style>\n",
       "<table border=\"1\" class=\"dataframe\">\n",
       "  <thead>\n",
       "    <tr style=\"text-align: right;\">\n",
       "      <th></th>\n",
       "      <th>id</th>\n",
       "      <th>f0</th>\n",
       "      <th>f1</th>\n",
       "      <th>f2</th>\n",
       "      <th>product</th>\n",
       "    </tr>\n",
       "  </thead>\n",
       "  <tbody>\n",
       "    <tr>\n",
       "      <th>0</th>\n",
       "      <td>fwXo0</td>\n",
       "      <td>-1.146987</td>\n",
       "      <td>0.963328</td>\n",
       "      <td>-0.828965</td>\n",
       "      <td>27.758673</td>\n",
       "    </tr>\n",
       "    <tr>\n",
       "      <th>1</th>\n",
       "      <td>WJtFt</td>\n",
       "      <td>0.262778</td>\n",
       "      <td>0.269839</td>\n",
       "      <td>-2.530187</td>\n",
       "      <td>56.069697</td>\n",
       "    </tr>\n",
       "    <tr>\n",
       "      <th>2</th>\n",
       "      <td>ovLUW</td>\n",
       "      <td>0.194587</td>\n",
       "      <td>0.289035</td>\n",
       "      <td>-5.586433</td>\n",
       "      <td>62.871910</td>\n",
       "    </tr>\n",
       "    <tr>\n",
       "      <th>3</th>\n",
       "      <td>q6cA6</td>\n",
       "      <td>2.236060</td>\n",
       "      <td>-0.553760</td>\n",
       "      <td>0.930038</td>\n",
       "      <td>114.572842</td>\n",
       "    </tr>\n",
       "    <tr>\n",
       "      <th>4</th>\n",
       "      <td>WPMUX</td>\n",
       "      <td>-0.515993</td>\n",
       "      <td>1.716266</td>\n",
       "      <td>5.899011</td>\n",
       "      <td>149.600746</td>\n",
       "    </tr>\n",
       "  </tbody>\n",
       "</table>\n",
       "</div>"
      ],
      "text/plain": [
       "      id        f0        f1        f2     product\n",
       "0  fwXo0 -1.146987  0.963328 -0.828965   27.758673\n",
       "1  WJtFt  0.262778  0.269839 -2.530187   56.069697\n",
       "2  ovLUW  0.194587  0.289035 -5.586433   62.871910\n",
       "3  q6cA6  2.236060 -0.553760  0.930038  114.572842\n",
       "4  WPMUX -0.515993  1.716266  5.899011  149.600746"
      ]
     },
     "metadata": {},
     "output_type": "display_data"
    },
    {
     "name": "stdout",
     "output_type": "stream",
     "text": [
      "<class 'pandas.core.frame.DataFrame'>\n",
      "RangeIndex: 100000 entries, 0 to 99999\n",
      "Data columns (total 5 columns):\n",
      " #   Column   Non-Null Count   Dtype  \n",
      "---  ------   --------------   -----  \n",
      " 0   id       100000 non-null  object \n",
      " 1   f0       100000 non-null  float64\n",
      " 2   f1       100000 non-null  float64\n",
      " 3   f2       100000 non-null  float64\n",
      " 4   product  100000 non-null  float64\n",
      "dtypes: float64(4), object(1)\n",
      "memory usage: 3.8+ MB\n"
     ]
    },
    {
     "data": {
      "text/plain": [
       "None"
      ]
     },
     "metadata": {},
     "output_type": "display_data"
    },
    {
     "name": "stdout",
     "output_type": "stream",
     "text": [
      "Описательная статистика:\n"
     ]
    },
    {
     "data": {
      "text/html": [
       "<div>\n",
       "<style scoped>\n",
       "    .dataframe tbody tr th:only-of-type {\n",
       "        vertical-align: middle;\n",
       "    }\n",
       "\n",
       "    .dataframe tbody tr th {\n",
       "        vertical-align: top;\n",
       "    }\n",
       "\n",
       "    .dataframe thead th {\n",
       "        text-align: right;\n",
       "    }\n",
       "</style>\n",
       "<table border=\"1\" class=\"dataframe\">\n",
       "  <thead>\n",
       "    <tr style=\"text-align: right;\">\n",
       "      <th></th>\n",
       "      <th>id</th>\n",
       "      <th>f0</th>\n",
       "      <th>f1</th>\n",
       "      <th>f2</th>\n",
       "      <th>product</th>\n",
       "    </tr>\n",
       "  </thead>\n",
       "  <tbody>\n",
       "    <tr>\n",
       "      <th>count</th>\n",
       "      <td>100000</td>\n",
       "      <td>100000.000000</td>\n",
       "      <td>100000.000000</td>\n",
       "      <td>100000.000000</td>\n",
       "      <td>100000.000000</td>\n",
       "    </tr>\n",
       "    <tr>\n",
       "      <th>unique</th>\n",
       "      <td>99996</td>\n",
       "      <td>NaN</td>\n",
       "      <td>NaN</td>\n",
       "      <td>NaN</td>\n",
       "      <td>NaN</td>\n",
       "    </tr>\n",
       "    <tr>\n",
       "      <th>top</th>\n",
       "      <td>KUPhW</td>\n",
       "      <td>NaN</td>\n",
       "      <td>NaN</td>\n",
       "      <td>NaN</td>\n",
       "      <td>NaN</td>\n",
       "    </tr>\n",
       "    <tr>\n",
       "      <th>freq</th>\n",
       "      <td>2</td>\n",
       "      <td>NaN</td>\n",
       "      <td>NaN</td>\n",
       "      <td>NaN</td>\n",
       "      <td>NaN</td>\n",
       "    </tr>\n",
       "    <tr>\n",
       "      <th>mean</th>\n",
       "      <td>NaN</td>\n",
       "      <td>0.002023</td>\n",
       "      <td>-0.002081</td>\n",
       "      <td>2.495128</td>\n",
       "      <td>95.000000</td>\n",
       "    </tr>\n",
       "    <tr>\n",
       "      <th>std</th>\n",
       "      <td>NaN</td>\n",
       "      <td>1.732045</td>\n",
       "      <td>1.730417</td>\n",
       "      <td>3.473445</td>\n",
       "      <td>44.749921</td>\n",
       "    </tr>\n",
       "    <tr>\n",
       "      <th>min</th>\n",
       "      <td>NaN</td>\n",
       "      <td>-8.760004</td>\n",
       "      <td>-7.084020</td>\n",
       "      <td>-11.970335</td>\n",
       "      <td>0.000000</td>\n",
       "    </tr>\n",
       "    <tr>\n",
       "      <th>25%</th>\n",
       "      <td>NaN</td>\n",
       "      <td>-1.162288</td>\n",
       "      <td>-1.174820</td>\n",
       "      <td>0.130359</td>\n",
       "      <td>59.450441</td>\n",
       "    </tr>\n",
       "    <tr>\n",
       "      <th>50%</th>\n",
       "      <td>NaN</td>\n",
       "      <td>0.009424</td>\n",
       "      <td>-0.009482</td>\n",
       "      <td>2.484236</td>\n",
       "      <td>94.925613</td>\n",
       "    </tr>\n",
       "    <tr>\n",
       "      <th>75%</th>\n",
       "      <td>NaN</td>\n",
       "      <td>1.158535</td>\n",
       "      <td>1.163678</td>\n",
       "      <td>4.858794</td>\n",
       "      <td>130.595027</td>\n",
       "    </tr>\n",
       "    <tr>\n",
       "      <th>max</th>\n",
       "      <td>NaN</td>\n",
       "      <td>7.238262</td>\n",
       "      <td>7.844801</td>\n",
       "      <td>16.739402</td>\n",
       "      <td>190.029838</td>\n",
       "    </tr>\n",
       "  </tbody>\n",
       "</table>\n",
       "</div>"
      ],
      "text/plain": [
       "            id             f0             f1             f2        product\n",
       "count   100000  100000.000000  100000.000000  100000.000000  100000.000000\n",
       "unique   99996            NaN            NaN            NaN            NaN\n",
       "top      KUPhW            NaN            NaN            NaN            NaN\n",
       "freq         2            NaN            NaN            NaN            NaN\n",
       "mean       NaN       0.002023      -0.002081       2.495128      95.000000\n",
       "std        NaN       1.732045       1.730417       3.473445      44.749921\n",
       "min        NaN      -8.760004      -7.084020     -11.970335       0.000000\n",
       "25%        NaN      -1.162288      -1.174820       0.130359      59.450441\n",
       "50%        NaN       0.009424      -0.009482       2.484236      94.925613\n",
       "75%        NaN       1.158535       1.163678       4.858794     130.595027\n",
       "max        NaN       7.238262       7.844801      16.739402     190.029838"
      ]
     },
     "metadata": {},
     "output_type": "display_data"
    },
    {
     "name": "stdout",
     "output_type": "stream",
     "text": [
      "------------------------------\n",
      "Анализ столбца: id\n",
      "Тип данных: object, Количество уникальных значений: 99996\n",
      "Количество пропущенных значений (NaN, None): 0, Процент: 0.0%\n",
      "Количество пустых строк и пробелов: 0, Процент: 0.0%\n",
      "------------------------------ \n",
      "\n",
      "------------------------------\n",
      "Анализ столбца: f0\n",
      "Тип данных: float64, Количество уникальных значений: 100000\n",
      "Количество пропущенных значений (NaN, None): 0, Процент: 0.0%\n",
      "Количество 0: 0, Процент 0: 0.0%\n",
      "------------------------------ \n",
      "\n",
      "------------------------------\n",
      "Анализ столбца: f1\n",
      "Тип данных: float64, Количество уникальных значений: 100000\n",
      "Количество пропущенных значений (NaN, None): 0, Процент: 0.0%\n",
      "Количество 0: 0, Процент 0: 0.0%\n",
      "------------------------------ \n",
      "\n",
      "------------------------------\n",
      "Анализ столбца: f2\n",
      "Тип данных: float64, Количество уникальных значений: 100000\n",
      "Количество пропущенных значений (NaN, None): 0, Процент: 0.0%\n",
      "Количество 0: 0, Процент 0: 0.0%\n",
      "------------------------------ \n",
      "\n",
      "------------------------------\n",
      "Анализ столбца: product\n",
      "Тип данных: float64, Количество уникальных значений: 100000\n",
      "Количество пропущенных значений (NaN, None): 0, Процент: 0.0%\n",
      "Количество 0: 1, Процент 0: 0.0%\n",
      "------------------------------ \n",
      "\n",
      "Количество полных дублей: 0, Процент полных дублей: 0.0%\n"
     ]
    }
   ],
   "source": [
    "analyze(df3, 'geo_data_2.csv')"
   ]
  },
  {
   "cell_type": "code",
   "execution_count": 12,
   "metadata": {},
   "outputs": [
    {
     "data": {
      "image/png": "[encoded data removed]",
      "text/plain": [
       "<Figure size 1008x1440 with 8 Axes>"
      ]
     },
     "metadata": {},
     "output_type": "display_data"
    }
   ],
   "source": [
    "# Построение графиков для выбранных столбцов\n",
    "columns_to_analyze = [\n",
    "    'f0',\n",
    "    'f1',\n",
    "    'f2',\n",
    "    'product'\n",
    "]\n",
    "\n",
    "\n",
    "plot_distribution(df1, columns_to_analyze)"
   ]
  },
  {
   "cell_type": "code",
   "execution_count": 13,
   "metadata": {},
   "outputs": [
    {
     "data": {
      "image/png": "[encoded data removed]",
      "text/plain": [
       "<Figure size 1008x1440 with 8 Axes>"
      ]
     },
     "metadata": {},
     "output_type": "display_data"
    }
   ],
   "source": [
    "plot_distribution(df2, columns_to_analyze)"
   ]
  },
  {
   "cell_type": "code",
   "execution_count": 14,
   "metadata": {},
   "outputs": [
    {
     "data": {
      "image/png": "[encoded data removed]",
      "text/plain": [
       "<Figure size 1008x1440 with 8 Axes>"
      ]
     },
     "metadata": {},
     "output_type": "display_data"
    }
   ],
   "source": [
    "plot_distribution(df3, columns_to_analyze)"
   ]
  },
  {
   "cell_type": "code",
   "execution_count": 15,
   "metadata": {},
   "outputs": [
    {
     "data": {
      "text/html": [
       "<div>\n",
       "<style scoped>\n",
       "    .dataframe tbody tr th:only-of-type {\n",
       "        vertical-align: middle;\n",
       "    }\n",
       "\n",
       "    .dataframe tbody tr th {\n",
       "        vertical-align: top;\n",
       "    }\n",
       "\n",
       "    .dataframe thead th {\n",
       "        text-align: right;\n",
       "    }\n",
       "</style>\n",
       "<table border=\"1\" class=\"dataframe\">\n",
       "  <thead>\n",
       "    <tr style=\"text-align: right;\">\n",
       "      <th></th>\n",
       "      <th>f0</th>\n",
       "      <th>f1</th>\n",
       "      <th>f2</th>\n",
       "      <th>product</th>\n",
       "    </tr>\n",
       "  </thead>\n",
       "  <tbody>\n",
       "    <tr>\n",
       "      <th>f0</th>\n",
       "      <td>1.000000</td>\n",
       "      <td>-0.440723</td>\n",
       "      <td>-0.003153</td>\n",
       "      <td>0.143536</td>\n",
       "    </tr>\n",
       "    <tr>\n",
       "      <th>f1</th>\n",
       "      <td>-0.440723</td>\n",
       "      <td>1.000000</td>\n",
       "      <td>0.001724</td>\n",
       "      <td>-0.192356</td>\n",
       "    </tr>\n",
       "    <tr>\n",
       "      <th>f2</th>\n",
       "      <td>-0.003153</td>\n",
       "      <td>0.001724</td>\n",
       "      <td>1.000000</td>\n",
       "      <td>0.483663</td>\n",
       "    </tr>\n",
       "    <tr>\n",
       "      <th>product</th>\n",
       "      <td>0.143536</td>\n",
       "      <td>-0.192356</td>\n",
       "      <td>0.483663</td>\n",
       "      <td>1.000000</td>\n",
       "    </tr>\n",
       "  </tbody>\n",
       "</table>\n",
       "</div>"
      ],
      "text/plain": [
       "               f0        f1        f2   product\n",
       "f0       1.000000 -0.440723 -0.003153  0.143536\n",
       "f1      -0.440723  1.000000  0.001724 -0.192356\n",
       "f2      -0.003153  0.001724  1.000000  0.483663\n",
       "product  0.143536 -0.192356  0.483663  1.000000"
      ]
     },
     "metadata": {},
     "output_type": "display_data"
    },
    {
     "data": {
      "image/png": "[encoded data removed]",
      "text/plain": [
       "<Figure size 1080x432 with 2 Axes>"
      ]
     },
     "metadata": {},
     "output_type": "display_data"
    }
   ],
   "source": [
    "corr_matrix(df1)"
   ]
  },
  {
   "cell_type": "code",
   "execution_count": 16,
   "metadata": {},
   "outputs": [
    {
     "data": {
      "text/html": [
       "<div>\n",
       "<style scoped>\n",
       "    .dataframe tbody tr th:only-of-type {\n",
       "        vertical-align: middle;\n",
       "    }\n",
       "\n",
       "    .dataframe tbody tr th {\n",
       "        vertical-align: top;\n",
       "    }\n",
       "\n",
       "    .dataframe thead th {\n",
       "        text-align: right;\n",
       "    }\n",
       "</style>\n",
       "<table border=\"1\" class=\"dataframe\">\n",
       "  <thead>\n",
       "    <tr style=\"text-align: right;\">\n",
       "      <th></th>\n",
       "      <th>f0</th>\n",
       "      <th>f1</th>\n",
       "      <th>f2</th>\n",
       "      <th>product</th>\n",
       "    </tr>\n",
       "  </thead>\n",
       "  <tbody>\n",
       "    <tr>\n",
       "      <th>f0</th>\n",
       "      <td>1.000000</td>\n",
       "      <td>0.182287</td>\n",
       "      <td>-0.001777</td>\n",
       "      <td>-0.030491</td>\n",
       "    </tr>\n",
       "    <tr>\n",
       "      <th>f1</th>\n",
       "      <td>0.182287</td>\n",
       "      <td>1.000000</td>\n",
       "      <td>-0.002595</td>\n",
       "      <td>-0.010155</td>\n",
       "    </tr>\n",
       "    <tr>\n",
       "      <th>f2</th>\n",
       "      <td>-0.001777</td>\n",
       "      <td>-0.002595</td>\n",
       "      <td>1.000000</td>\n",
       "      <td>0.999397</td>\n",
       "    </tr>\n",
       "    <tr>\n",
       "      <th>product</th>\n",
       "      <td>-0.030491</td>\n",
       "      <td>-0.010155</td>\n",
       "      <td>0.999397</td>\n",
       "      <td>1.000000</td>\n",
       "    </tr>\n",
       "  </tbody>\n",
       "</table>\n",
       "</div>"
      ],
      "text/plain": [
       "               f0        f1        f2   product\n",
       "f0       1.000000  0.182287 -0.001777 -0.030491\n",
       "f1       0.182287  1.000000 -0.002595 -0.010155\n",
       "f2      -0.001777 -0.002595  1.000000  0.999397\n",
       "product -0.030491 -0.010155  0.999397  1.000000"
      ]
     },
     "metadata": {},
     "output_type": "display_data"
    },
    {
     "data": {
      "image/png": "[encoded data removed]",
      "text/plain": [
       "<Figure size 1080x432 with 2 Axes>"
      ]
     },
     "metadata": {},
     "output_type": "display_data"
    }
   ],
   "source": [
    "corr_matrix(df2)"
   ]
  },
  {
   "cell_type": "code",
   "execution_count": 17,
   "metadata": {},
   "outputs": [
    {
     "data": {
      "text/html": [
       "<div>\n",
       "<style scoped>\n",
       "    .dataframe tbody tr th:only-of-type {\n",
       "        vertical-align: middle;\n",
       "    }\n",
       "\n",
       "    .dataframe tbody tr th {\n",
       "        vertical-align: top;\n",
       "    }\n",
       "\n",
       "    .dataframe thead th {\n",
       "        text-align: right;\n",
       "    }\n",
       "</style>\n",
       "<table border=\"1\" class=\"dataframe\">\n",
       "  <thead>\n",
       "    <tr style=\"text-align: right;\">\n",
       "      <th></th>\n",
       "      <th>f0</th>\n",
       "      <th>f1</th>\n",
       "      <th>f2</th>\n",
       "      <th>product</th>\n",
       "    </tr>\n",
       "  </thead>\n",
       "  <tbody>\n",
       "    <tr>\n",
       "      <th>f0</th>\n",
       "      <td>1.000000</td>\n",
       "      <td>0.000528</td>\n",
       "      <td>-0.000448</td>\n",
       "      <td>-0.001987</td>\n",
       "    </tr>\n",
       "    <tr>\n",
       "      <th>f1</th>\n",
       "      <td>0.000528</td>\n",
       "      <td>1.000000</td>\n",
       "      <td>0.000779</td>\n",
       "      <td>-0.001012</td>\n",
       "    </tr>\n",
       "    <tr>\n",
       "      <th>f2</th>\n",
       "      <td>-0.000448</td>\n",
       "      <td>0.000779</td>\n",
       "      <td>1.000000</td>\n",
       "      <td>0.445871</td>\n",
       "    </tr>\n",
       "    <tr>\n",
       "      <th>product</th>\n",
       "      <td>-0.001987</td>\n",
       "      <td>-0.001012</td>\n",
       "      <td>0.445871</td>\n",
       "      <td>1.000000</td>\n",
       "    </tr>\n",
       "  </tbody>\n",
       "</table>\n",
       "</div>"
      ],
      "text/plain": [
       "               f0        f1        f2   product\n",
       "f0       1.000000  0.000528 -0.000448 -0.001987\n",
       "f1       0.000528  1.000000  0.000779 -0.001012\n",
       "f2      -0.000448  0.000779  1.000000  0.445871\n",
       "product -0.001987 -0.001012  0.445871  1.000000"
      ]
     },
     "metadata": {},
     "output_type": "display_data"
    },
    {
     "data": {
      "image/png": "[encoded data removed]",
      "text/plain": [
       "<Figure size 1080x432 with 2 Axes>"
      ]
     },
     "metadata": {},
     "output_type": "display_data"
    }
   ],
   "source": [
    "corr_matrix(df3)"
   ]
  },
  {
   "cell_type": "markdown",
   "metadata": {},
   "source": [
    "После анализа dataframes geo_data_0, geo_data_1 и geo_data_2 можно сделать следующие выводы:\n",
    "\n",
    "- Все dataframes содержат 100000 строк и 5 столбцов: 'id', 'f0', 'f1', 'f2' и 'product'. \n",
    "\n",
    "\n",
    "- Тип данных для столбцов 'f0', 'f1', 'f2' и 'product' — float64, а для столбца 'id' — object. \n",
    "\n",
    "\n",
    "- Количество уникальных значений для столбца 'id' в каждом dataframe составляет 99990, 99996 и 99996 соответственно.\n",
    "\n",
    "\n",
    "- Количество пропущенных значений в каждом dataframe равно 0 для всех столбцов.\n",
    "\n",
    "- **product:**\n",
    "   *   В geo_data_1 наблюдается значительное количество нулевых значений (8.24%).\n",
    "    В geo_data_0 и geo_data_2 присутствует только по одному нулевому значению.\n",
    "   * В geo_data_0 содержит уникальные значения, начиная от 0 до 185.364347, в geo_data_1 — от 0 до 137.945408, а в geo_data_2 — от 0 до 190.029838. Это указывает на различный диапазон значений запасов сырья в каждом регионе.\n",
    "   * В 'geo_data_1.csv' примечательно мало уникальных значений(только 12), что указывает на наличие большого количества повторяющихся значений. \n",
    "   * Средний объем добычи сырья в geo_data_0 и geo_data_2 близки (около 92 и 95 единиц), а в geo_data_1 значительно меньше (около 69 единиц).\n",
    "\n",
    "\n",
    "- Матрицы корреляции для каждого dataframe показывают, что между feature-столбцами есть определенные корреляции. В geo_data_0 и geo_data_2 наибольшая корреляция наблюдается между 'f2' и 'product' (0.483663 и 0.445871 соответственно), а в geo_data_1 — между 'f2' и 'product' (0.999397).\n",
    "\n"
   ]
  },
  {
   "cell_type": "markdown",
   "metadata": {},
   "source": [
    "## Обучение и проверка модели"
   ]
  },
  {
   "cell_type": "code",
   "execution_count": 18,
   "metadata": {},
   "outputs": [
    {
     "name": "stdout",
     "output_type": "stream",
     "text": [
      "\n",
      "Результаты для региона df1:\n",
      "Средний запас предсказанного сырья: 92.40\n",
      "RMSE: 37.76\n",
      "MAE: 31.05\n",
      "\n",
      "\n",
      "Результаты для региона df2:\n",
      "Средний запас предсказанного сырья: 68.71\n",
      "RMSE: 0.89\n",
      "MAE: 0.72\n",
      "\n",
      "\n",
      "Результаты для региона df3:\n",
      "Средний запас предсказанного сырья: 94.77\n",
      "RMSE: 40.15\n",
      "MAE: 32.90\n",
      "\n"
     ]
    }
   ],
   "source": [
    "targets = {}\n",
    "names = ['df1', 'df2', 'df3']\n",
    "data = [df1, df2, df3]\n",
    "\n",
    "for i, (df, name) in enumerate(zip(data, names)):\n",
    "    X = df[['f0', 'f1', 'f2']]\n",
    "    y = df['product']\n",
    "\n",
    "    predictions_ml, y_val_ml = train_and_evaluate_model(X, y, name)\n",
    "    # запишем фактические данные и предсказанные в словарь\n",
    "    targets[names[i]] = (y_val_ml, pd.Series(predictions_ml, index=y_val_ml.index, name='product_predicted'))"
   ]
  },
  {
   "cell_type": "markdown",
   "metadata": {},
   "source": [
    "В данной части работы мы провели обучение и проверку модели.\n",
    "\n",
    "Результаты экспериментов показали, что RMSE (корень из среднеквадратичной ошибки) для датасета df2 составляет 0.89. \n",
    "\n",
    "Однако, для датасетов df1 и df2, RMSE значительно выше и составляет 37.76 и 40.15 соответственно. Это говорит о том, что в этих датасетах имеется большой разброс данных в целевых показателях, что означает, что предсказанные значения не отражают реальные запасы сырья с высокой точностью."
   ]
  },
  {
   "cell_type": "markdown",
   "metadata": {},
   "source": [
    "## Подготовка к расчёту прибыли"
   ]
  },
  {
   "cell_type": "code",
   "execution_count": 19,
   "metadata": {},
   "outputs": [],
   "source": [
    "POINTS = 500 # количество скважин, которое исследуют при разведке региона\n",
    "BEST_FOR_ML = 200 # количество лучших скважин, которые нужно выбрать для разработки в каждом регионе с помощью машинного обучения\n",
    "BUDGET = 10e9 # бюджет (расходы) на разработку скважин в регионе (тыс. рублей), заложенный на 200 скважин\n",
    "BARREL_PRICE = 450e3 # доход с каждой единицы продукта (тыс. рублей на 1 тыс. баррелей)\n",
    "THRESHOLD = 0.025\n"
   ]
  },
  {
   "cell_type": "code",
   "execution_count": 20,
   "metadata": {},
   "outputs": [
    {
     "name": "stdout",
     "output_type": "stream",
     "text": [
      "Достаточный объём сырья для безубыточной разработки = 111.11 тыс. баррелей.\n",
      "\n",
      "Средний запас в df1 регионе = 92.50 тыс. баррелей.\n",
      "Процент скважин с объёмом больше чем порог = 36.58%\n",
      "Количество скважин в объёмом больше чем порог = 36583\n",
      "\n",
      "Средний запас в df2 регионе = 68.83 тыс. баррелей.\n",
      "Процент скважин с объёмом больше чем порог = 16.54%\n",
      "Количество скважин в объёмом больше чем порог = 16537\n",
      "\n",
      "Средний запас в df3 регионе = 95.00 тыс. баррелей.\n",
      "Процент скважин с объёмом больше чем порог = 38.18%\n",
      "Количество скважин в объёмом больше чем порог = 38178\n"
     ]
    }
   ],
   "source": [
    "names = ['df1', 'df2', 'df3']\n",
    "data = [df1, df2, df3]\n",
    "\n",
    "break_even = BUDGET / (BARREL_PRICE * BEST_FOR_ML)\n",
    "print(f'Достаточный объём сырья для безубыточной разработки = {break_even:.2f} тыс. баррелей.')\n",
    "\n",
    "for name, data in zip(names, data):\n",
    "    print()\n",
    "    print(f'Средний запас в {name} регионе = {data[\"product\"].mean():.2f} тыс. баррелей.')\n",
    "    print(f'Процент скважин с объёмом больше чем порог = {len(data.query(\"product > @break_even\")) / len(data):.2%}')\n",
    "    print(f'Количество скважин в объёмом больше чем порог = {len(data.query(\"product > @break_even\"))}')"
   ]
  },
  {
   "cell_type": "markdown",
   "metadata": {},
   "source": [
    "На этапе подготовки расчета прибыли было определено, что достаточный объём сырья для безубыточной разработки в каждом регионе составляет 111.11 тыс. баррелей.\n",
    "\n",
    "* geo_data_0 содержит 35.58% скважин с запасами нефти более 111 тысяч баррель.\n",
    "* geo_data_1 содержит 16.54% скважин с запасами нефти более 111 тысяч баррель.\n",
    "* geo_data_2 содержит 38.18% скважин с запасами нефти более 111 тысяч баррель."
   ]
  },
  {
   "cell_type": "markdown",
   "metadata": {},
   "source": [
    "## Расчёт прибыли и рисков "
   ]
  },
  {
   "cell_type": "code",
   "execution_count": 21,
   "metadata": {},
   "outputs": [
    {
     "name": "stdout",
     "output_type": "stream",
     "text": [
      "\n",
      "Регион df1:\n"
     ]
    },
    {
     "data": {
      "application/vnd.jupyter.widget-view+json": {
       "model_id": "4152a75c43ab4e5da890294a716d188e",
       "version_major": 2,
       "version_minor": 0
      },
      "text/plain": [
       "  0%|          | 0/1000 [00:00<?, ?it/s]"
      ]
     },
     "metadata": {},
     "output_type": "display_data"
    },
    {
     "name": "stdout",
     "output_type": "stream",
     "text": [
      "Средняя прибыль: 400464812.25 тыс. рублей\n",
      "95%-й доверительный интервал: [-1.10060265e+08  8.97150988e+08]\n",
      "Вероятность убытков: 6.40%\n",
      "\n",
      "Регион df2:\n"
     ]
    },
    {
     "data": {
      "application/vnd.jupyter.widget-view+json": {
       "model_id": "19125d7642d447a1b27d8504bf062ad7",
       "version_major": 2,
       "version_minor": 0
      },
      "text/plain": [
       "  0%|          | 0/1000 [00:00<?, ?it/s]"
      ]
     },
     "metadata": {},
     "output_type": "display_data"
    },
    {
     "name": "stdout",
     "output_type": "stream",
     "text": [
      "Средняя прибыль: 433329726.72 тыс. рублей\n",
      "95%-й доверительный интервал: [6.16316098e+07 8.13084899e+08]\n",
      "Вероятность убытков: 1.00%\n",
      "\n",
      "Регион df3:\n"
     ]
    },
    {
     "data": {
      "application/vnd.jupyter.widget-view+json": {
       "model_id": "36ed512728344afaa4eda2f8ae565ac5",
       "version_major": 2,
       "version_minor": 0
      },
      "text/plain": [
       "  0%|          | 0/1000 [00:00<?, ?it/s]"
      ]
     },
     "metadata": {},
     "output_type": "display_data"
    },
    {
     "name": "stdout",
     "output_type": "stream",
     "text": [
      "Средняя прибыль: 374071097.83 тыс. рублей\n",
      "95%-й доверительный интервал: [-1.47954495e+08  8.69976283e+08]\n",
      "Вероятность убытков: 8.20%\n"
     ]
    },
    {
     "data": {
      "image/png": "[encoded data removed]",
      "text/plain": [
       "<Figure size 576x432 with 1 Axes>"
      ]
     },
     "metadata": {},
     "output_type": "display_data"
    },
    {
     "data": {
      "image/png": "[encoded data removed]",
      "text/plain": [
       "<Figure size 576x432 with 1 Axes>"
      ]
     },
     "metadata": {},
     "output_type": "display_data"
    },
    {
     "data": {
      "image/png": "[encoded data removed]",
      "text/plain": [
       "<Figure size 576x432 with 1 Axes>"
      ]
     },
     "metadata": {},
     "output_type": "display_data"
    }
   ],
   "source": [
    "# Функция для расчета прибыли\n",
    "def calculate_profit(predictions, target_values):\n",
    "    best_wells = predictions.sort_values(ascending=False).index[:BEST_FOR_ML]  # Выбираем 200 лучших скважин\n",
    "    total_product = target_values.loc[best_wells].sum()  # Суммируем добычу по 200 лучшим\n",
    "    profit = total_product * BARREL_PRICE - BUDGET  # Расчет прибыли\n",
    "    return profit\n",
    "\n",
    "\n",
    "# Проводим bootstrap-анализ для оценки рисков и прибыли\n",
    "results = {}\n",
    "for name, (y_val, predictions) in targets.items():\n",
    "    print(f'\\nРегион {name}:')\n",
    "    profits = []\n",
    "    for i in notebook.tqdm(range(1000)):\n",
    "        # Выбираем случайную выборку без повторений\n",
    "        sample_indices = np.random.choice(y_val.index, size=POINTS, replace=False)  \n",
    "        sample_predictions = predictions.loc[sample_indices]  # Выбираем прогнозы для этой выборки\n",
    "        sample_target_values = y_val.loc[sample_indices]  # Выбираем реальные значения для этой выборки\n",
    "\n",
    "        # Рассчитываем прибыль для этой выборки\n",
    "        profit = calculate_profit(sample_predictions, sample_target_values)  #  \n",
    "        profits.append(profit)\n",
    "\n",
    "    # Вычисляем среднюю прибыль, 95% доверительный интервал и риск убытков\n",
    "    mean_profit = np.mean(profits)\n",
    "    # Используем numpy.percentile для вычисления границ 95% ДИ\n",
    "    confidence_interval = np.percentile(profits, [2.5, 97.5]) \n",
    "    loss_risk = (np.array(profits) < 0).mean()\n",
    "\n",
    "    print(f\"Средняя прибыль: {mean_profit:.2f} тыс. рублей\")\n",
    "    print(f\"95%-й доверительный интервал: {confidence_interval}\")\n",
    "    print(f\"Вероятность убытков: {loss_risk:.2%}\")\n",
    "\n",
    "    # Добавляем список прибылей в результаты\n",
    "    results[name] = {'mean_profit': mean_profit, 'confidence_interval': confidence_interval, 'loss_risk': loss_risk, 'profits': profits}\n",
    "\n",
    "for name, data in results.items():\n",
    "    plt.figure(figsize=(8, 6))\n",
    "    plt.hist(data['profits'], bins=20, edgecolor='black')\n",
    "    plt.title(f'Распределение прибыли для региона {name}')\n",
    "    plt.xlabel('Прибыль (тыс. рублей)')\n",
    "    plt.ylabel('Частота')\n",
    "\n",
    "    plt.axvline(data['mean_profit'], color='red', linestyle='--', label='Средняя прибыль')\n",
    "    plt.axvline(data['confidence_interval'][0], color='blue', linestyle='--', label='Нижняя граница 95% ДИ')\n",
    "    plt.axvline(data['confidence_interval'][1], color='blue', linestyle='--', label='Верхняя граница 95% ДИ')\n",
    "\n",
    "    plt.legend()\n",
    "    plt.show()"
   ]
  },
  {
   "cell_type": "code",
   "execution_count": 22,
   "metadata": {},
   "outputs": [
    {
     "name": "stdout",
     "output_type": "stream",
     "text": [
      "\n",
      "Рекомендуемый регион для разработки скважин: df2\n",
      "Обоснование: наименьший риск убытков (1.00%) и наибольшая средняя прибыль (433329726.72 тыс. рублей).\n"
     ]
    }
   ],
   "source": [
    "# Вывод рекомендаций по выбору региона\n",
    "filtered_results = {name: result for name, result in results.items() if result['loss_risk'] < THRESHOLD}\n",
    "\n",
    "if filtered_results:\n",
    "    best_region = max(filtered_results, key=lambda x: filtered_results[x]['mean_profit'])\n",
    "    print(f\"\\nРекомендуемый регион для разработки скважин: {best_region}\")\n",
    "    print(f\"Обоснование: наименьший риск убытков ({results[best_region]['loss_risk']:.2%}) и наибольшая средняя прибыль ({results[best_region]['mean_profit']:.2f} тыс. рублей).\")\n",
    "else:\n",
    "    print(\"\\nНет регионов с вероятностью убытков ниже 2.5%.\")\n"
   ]
  },
  {
   "cell_type": "markdown",
   "metadata": {},
   "source": [
    "В регионе df2 ожидается наибольшая возможная прибыль в размере 433329726.72 тыс. рублей при оценке модели.\n",
    "Риск потерь минимальный - всего 1.00%."
   ]
  },
  {
   "cell_type": "markdown",
   "metadata": {},
   "source": [
    "\n",
    "**Вывод и рекомендации по выбору региона**\n",
    "- В ходе проделанной работы была построена модель машинного обучения для предсказания запасов нефти в трех регионах. - Проведен анализ рисков и прибыли с использованием техники Bootstrap.\n",
    "\n",
    "**Результаты исследования:**\n",
    "\n",
    "- Модель линейной регрессии: показала удовлетворительные результаты для региона df2 с низким RMSE и MAE, что говорит о высокой точности предсказаний.\n",
    "- Bootstrap-анализ: выявил, что регион df2 имеет наибольшую среднюю прибыль (433329726.72 тыс. рублей) и минимальный риск убытков (1.00%).\n",
    "- Сравнение регионов: регион df1 и df3 демонстрируют более высокий риск убытков (6.40% и 8.20% соответственно), несмотря на сопоставимую среднюю прибыль.\n",
    "\n",
    "**Рекомендация:**\n",
    "\n",
    "Рекомендуется выбрать регион df2 для разработки новых скважин, так как он обладает наилучшим соотношением риска и прибыли. Низкий риск убытков и высокая средняя прибыль делают его наиболее привлекательным вариантом для инвестиций."
   ]
  },
  {
   "cell_type": "code",
   "execution_count": null,
   "metadata": {},
   "outputs": [],
   "source": []
  }
 ],
 "metadata": {
  "ExecuteTimeLog": [
   {
    "duration": 1658,
    "start_time": "2024-10-19T15:41:19.246Z"
   },
   {
    "duration": 996,
    "start_time": "2024-10-19T15:41:20.906Z"
   },
   {
    "duration": 110,
    "start_time": "2024-10-19T15:43:15.717Z"
   },
   {
    "duration": 1377,
    "start_time": "2024-10-19T15:43:46.464Z"
   },
   {
    "duration": 417,
    "start_time": "2024-10-19T15:43:47.852Z"
   },
   {
    "duration": 10,
    "start_time": "2024-10-19T15:43:48.271Z"
   },
   {
    "duration": 293,
    "start_time": "2024-10-19T15:43:48.283Z"
   },
   {
    "duration": 257,
    "start_time": "2024-10-19T15:44:28.274Z"
   },
   {
    "duration": 258,
    "start_time": "2024-10-19T15:44:43.626Z"
   },
   {
    "duration": 1529,
    "start_time": "2024-10-19T15:54:06.838Z"
   },
   {
    "duration": 420,
    "start_time": "2024-10-19T15:54:08.369Z"
   },
   {
    "duration": 11,
    "start_time": "2024-10-19T15:54:08.791Z"
   },
   {
    "duration": 17,
    "start_time": "2024-10-19T15:54:08.804Z"
   },
   {
    "duration": 301,
    "start_time": "2024-10-19T15:54:08.823Z"
   },
   {
    "duration": 268,
    "start_time": "2024-10-19T15:54:09.126Z"
   },
   {
    "duration": 293,
    "start_time": "2024-10-19T15:54:09.395Z"
   },
   {
    "duration": 5074,
    "start_time": "2024-10-19T15:54:09.690Z"
   },
   {
    "duration": 1544,
    "start_time": "2024-10-19T15:54:46.710Z"
   },
   {
    "duration": 448,
    "start_time": "2024-10-19T15:54:48.256Z"
   },
   {
    "duration": 9,
    "start_time": "2024-10-19T15:54:48.706Z"
   },
   {
    "duration": 9,
    "start_time": "2024-10-19T15:54:48.721Z"
   },
   {
    "duration": 313,
    "start_time": "2024-10-19T15:54:48.732Z"
   },
   {
    "duration": 308,
    "start_time": "2024-10-19T15:54:49.047Z"
   },
   {
    "duration": 311,
    "start_time": "2024-10-19T15:54:49.356Z"
   },
   {
    "duration": 6916,
    "start_time": "2024-10-19T15:54:49.668Z"
   },
   {
    "duration": 1502,
    "start_time": "2024-10-19T15:56:23.575Z"
   },
   {
    "duration": 444,
    "start_time": "2024-10-19T15:56:25.080Z"
   },
   {
    "duration": 10,
    "start_time": "2024-10-19T15:56:25.525Z"
   },
   {
    "duration": 38,
    "start_time": "2024-10-19T15:56:25.537Z"
   },
   {
    "duration": 292,
    "start_time": "2024-10-19T15:56:25.578Z"
   },
   {
    "duration": 294,
    "start_time": "2024-10-19T15:56:25.871Z"
   },
   {
    "duration": 298,
    "start_time": "2024-10-19T15:56:26.167Z"
   },
   {
    "duration": 6825,
    "start_time": "2024-10-19T15:56:26.467Z"
   },
   {
    "duration": 6997,
    "start_time": "2024-10-19T15:56:33.293Z"
   },
   {
    "duration": 6988,
    "start_time": "2024-10-19T15:56:40.292Z"
   },
   {
    "duration": 205,
    "start_time": "2024-10-19T15:59:15.884Z"
   },
   {
    "duration": 1475,
    "start_time": "2024-10-19T15:59:19.440Z"
   },
   {
    "duration": 426,
    "start_time": "2024-10-19T15:59:20.918Z"
   },
   {
    "duration": 9,
    "start_time": "2024-10-19T15:59:21.345Z"
   },
   {
    "duration": 16,
    "start_time": "2024-10-19T15:59:21.356Z"
   },
   {
    "duration": 285,
    "start_time": "2024-10-19T15:59:21.374Z"
   },
   {
    "duration": 323,
    "start_time": "2024-10-19T15:59:21.661Z"
   },
   {
    "duration": 308,
    "start_time": "2024-10-19T15:59:21.986Z"
   },
   {
    "duration": 6831,
    "start_time": "2024-10-19T15:59:22.296Z"
   },
   {
    "duration": 7209,
    "start_time": "2024-10-19T15:59:29.129Z"
   },
   {
    "duration": 7130,
    "start_time": "2024-10-19T15:59:36.340Z"
   },
   {
    "duration": 1479,
    "start_time": "2024-10-19T16:00:06.881Z"
   },
   {
    "duration": 435,
    "start_time": "2024-10-19T16:00:08.362Z"
   },
   {
    "duration": 9,
    "start_time": "2024-10-19T16:00:08.799Z"
   },
   {
    "duration": 33,
    "start_time": "2024-10-19T16:00:08.809Z"
   },
   {
    "duration": 259,
    "start_time": "2024-10-19T16:00:08.844Z"
   },
   {
    "duration": 290,
    "start_time": "2024-10-19T16:00:09.105Z"
   },
   {
    "duration": 284,
    "start_time": "2024-10-19T16:00:09.396Z"
   },
   {
    "duration": 6865,
    "start_time": "2024-10-19T16:00:09.682Z"
   },
   {
    "duration": 7241,
    "start_time": "2024-10-19T16:00:16.549Z"
   },
   {
    "duration": 1536,
    "start_time": "2024-10-19T16:00:31.084Z"
   },
   {
    "duration": 439,
    "start_time": "2024-10-19T16:00:32.623Z"
   },
   {
    "duration": 9,
    "start_time": "2024-10-19T16:00:33.064Z"
   },
   {
    "duration": 101,
    "start_time": "2024-10-19T16:00:33.077Z"
   },
   {
    "duration": 302,
    "start_time": "2024-10-19T16:00:33.179Z"
   },
   {
    "duration": 280,
    "start_time": "2024-10-19T16:00:33.483Z"
   },
   {
    "duration": 296,
    "start_time": "2024-10-19T16:00:33.765Z"
   },
   {
    "duration": 7093,
    "start_time": "2024-10-19T16:00:34.063Z"
   },
   {
    "duration": 7378,
    "start_time": "2024-10-19T16:00:41.157Z"
   },
   {
    "duration": 7093,
    "start_time": "2024-10-19T16:00:48.537Z"
   },
   {
    "duration": 1433,
    "start_time": "2024-10-19T16:01:06.221Z"
   },
   {
    "duration": 451,
    "start_time": "2024-10-19T16:01:07.656Z"
   },
   {
    "duration": 10,
    "start_time": "2024-10-19T16:01:08.109Z"
   },
   {
    "duration": 52,
    "start_time": "2024-10-19T16:01:08.121Z"
   },
   {
    "duration": 270,
    "start_time": "2024-10-19T16:01:08.175Z"
   },
   {
    "duration": 312,
    "start_time": "2024-10-19T16:01:08.447Z"
   },
   {
    "duration": 294,
    "start_time": "2024-10-19T16:01:08.761Z"
   },
   {
    "duration": 6998,
    "start_time": "2024-10-19T16:01:09.057Z"
   },
   {
    "duration": 6958,
    "start_time": "2024-10-19T16:01:16.057Z"
   },
   {
    "duration": 7094,
    "start_time": "2024-10-19T16:01:23.017Z"
   },
   {
    "duration": 1409,
    "start_time": "2024-10-19T16:01:50.142Z"
   },
   {
    "duration": 476,
    "start_time": "2024-10-19T16:01:51.554Z"
   },
   {
    "duration": 9,
    "start_time": "2024-10-19T16:01:52.032Z"
   },
   {
    "duration": 80,
    "start_time": "2024-10-19T16:01:52.043Z"
   },
   {
    "duration": 278,
    "start_time": "2024-10-19T16:01:52.125Z"
   },
   {
    "duration": 289,
    "start_time": "2024-10-19T16:01:52.405Z"
   },
   {
    "duration": 301,
    "start_time": "2024-10-19T16:01:52.696Z"
   },
   {
    "duration": 6959,
    "start_time": "2024-10-19T16:01:53.000Z"
   },
   {
    "duration": 7079,
    "start_time": "2024-10-19T16:01:59.961Z"
   },
   {
    "duration": 7216,
    "start_time": "2024-10-19T16:02:07.042Z"
   },
   {
    "duration": 1525,
    "start_time": "2024-10-19T16:02:33.410Z"
   },
   {
    "duration": 459,
    "start_time": "2024-10-19T16:02:34.937Z"
   },
   {
    "duration": 10,
    "start_time": "2024-10-19T16:02:35.398Z"
   },
   {
    "duration": 22,
    "start_time": "2024-10-19T16:02:35.411Z"
   },
   {
    "duration": 311,
    "start_time": "2024-10-19T16:02:35.436Z"
   },
   {
    "duration": 317,
    "start_time": "2024-10-19T16:02:35.749Z"
   },
   {
    "duration": 337,
    "start_time": "2024-10-19T16:02:36.069Z"
   },
   {
    "duration": 7040,
    "start_time": "2024-10-19T16:02:36.408Z"
   },
   {
    "duration": 6961,
    "start_time": "2024-10-19T16:02:43.449Z"
   },
   {
    "duration": 6936,
    "start_time": "2024-10-19T16:02:50.412Z"
   },
   {
    "duration": 1500,
    "start_time": "2024-10-19T16:08:30.380Z"
   },
   {
    "duration": 432,
    "start_time": "2024-10-19T16:08:31.882Z"
   },
   {
    "duration": 9,
    "start_time": "2024-10-19T16:08:32.316Z"
   },
   {
    "duration": 39,
    "start_time": "2024-10-19T16:08:32.327Z"
   },
   {
    "duration": 319,
    "start_time": "2024-10-19T16:08:32.367Z"
   },
   {
    "duration": 287,
    "start_time": "2024-10-19T16:08:32.687Z"
   },
   {
    "duration": 286,
    "start_time": "2024-10-19T16:08:32.976Z"
   },
   {
    "duration": 6916,
    "start_time": "2024-10-19T16:08:33.264Z"
   },
   {
    "duration": 7123,
    "start_time": "2024-10-19T16:08:40.181Z"
   },
   {
    "duration": 6998,
    "start_time": "2024-10-19T16:08:47.306Z"
   },
   {
    "duration": 1427,
    "start_time": "2024-10-19T16:09:07.343Z"
   },
   {
    "duration": 430,
    "start_time": "2024-10-19T16:09:08.772Z"
   },
   {
    "duration": 9,
    "start_time": "2024-10-19T16:09:09.204Z"
   },
   {
    "duration": 13,
    "start_time": "2024-10-19T16:09:09.215Z"
   },
   {
    "duration": 274,
    "start_time": "2024-10-19T16:09:09.231Z"
   },
   {
    "duration": 285,
    "start_time": "2024-10-19T16:09:09.506Z"
   },
   {
    "duration": 334,
    "start_time": "2024-10-19T16:09:09.792Z"
   },
   {
    "duration": 7032,
    "start_time": "2024-10-19T16:09:10.128Z"
   },
   {
    "duration": 6997,
    "start_time": "2024-10-19T16:09:17.161Z"
   },
   {
    "duration": 7060,
    "start_time": "2024-10-19T16:09:24.160Z"
   },
   {
    "duration": 111,
    "start_time": "2024-10-19T16:12:46.004Z"
   },
   {
    "duration": 1501,
    "start_time": "2024-10-19T16:13:20.723Z"
   },
   {
    "duration": 448,
    "start_time": "2024-10-19T16:13:22.226Z"
   },
   {
    "duration": 10,
    "start_time": "2024-10-19T16:13:22.675Z"
   },
   {
    "duration": 24,
    "start_time": "2024-10-19T16:13:22.687Z"
   },
   {
    "duration": 30,
    "start_time": "2024-10-19T16:13:22.713Z"
   },
   {
    "duration": 265,
    "start_time": "2024-10-19T16:13:22.745Z"
   },
   {
    "duration": 305,
    "start_time": "2024-10-19T16:13:23.021Z"
   },
   {
    "duration": 304,
    "start_time": "2024-10-19T16:13:23.328Z"
   },
   {
    "duration": 7010,
    "start_time": "2024-10-19T16:13:23.634Z"
   },
   {
    "duration": 7030,
    "start_time": "2024-10-19T16:13:30.647Z"
   },
   {
    "duration": 7042,
    "start_time": "2024-10-19T16:13:37.680Z"
   },
   {
    "duration": 571,
    "start_time": "2024-10-19T16:13:44.724Z"
   },
   {
    "duration": 350,
    "start_time": "2024-10-19T16:14:17.415Z"
   },
   {
    "duration": 372,
    "start_time": "2024-10-19T16:14:20.980Z"
   },
   {
    "duration": 1506,
    "start_time": "2024-10-19T16:16:24.381Z"
   },
   {
    "duration": 429,
    "start_time": "2024-10-19T16:16:25.889Z"
   },
   {
    "duration": 9,
    "start_time": "2024-10-19T16:16:26.322Z"
   },
   {
    "duration": 37,
    "start_time": "2024-10-19T16:16:26.332Z"
   },
   {
    "duration": 50,
    "start_time": "2024-10-19T16:16:26.372Z"
   },
   {
    "duration": 278,
    "start_time": "2024-10-19T16:16:26.424Z"
   },
   {
    "duration": 300,
    "start_time": "2024-10-19T16:16:26.704Z"
   },
   {
    "duration": 298,
    "start_time": "2024-10-19T16:16:27.006Z"
   },
   {
    "duration": 6187,
    "start_time": "2024-10-19T16:16:27.321Z"
   },
   {
    "duration": 6169,
    "start_time": "2024-10-19T16:16:33.510Z"
   },
   {
    "duration": 6256,
    "start_time": "2024-10-19T16:16:39.681Z"
   },
   {
    "duration": 353,
    "start_time": "2024-10-19T16:16:45.939Z"
   },
   {
    "duration": 378,
    "start_time": "2024-10-19T16:16:46.294Z"
   },
   {
    "duration": 372,
    "start_time": "2024-10-19T16:16:46.675Z"
   },
   {
    "duration": 1436,
    "start_time": "2024-10-19T16:17:51.253Z"
   },
   {
    "duration": 444,
    "start_time": "2024-10-19T16:17:52.692Z"
   },
   {
    "duration": 9,
    "start_time": "2024-10-19T16:17:53.138Z"
   },
   {
    "duration": 39,
    "start_time": "2024-10-19T16:17:53.149Z"
   },
   {
    "duration": 4,
    "start_time": "2024-10-19T16:17:53.190Z"
   },
   {
    "duration": 280,
    "start_time": "2024-10-19T16:17:53.196Z"
   },
   {
    "duration": 299,
    "start_time": "2024-10-19T16:17:53.478Z"
   },
   {
    "duration": 298,
    "start_time": "2024-10-19T16:17:53.778Z"
   },
   {
    "duration": 2100,
    "start_time": "2024-10-19T16:17:54.078Z"
   },
   {
    "duration": 0,
    "start_time": "2024-10-19T16:17:56.180Z"
   },
   {
    "duration": 0,
    "start_time": "2024-10-19T16:17:56.181Z"
   },
   {
    "duration": 0,
    "start_time": "2024-10-19T16:17:56.182Z"
   },
   {
    "duration": 0,
    "start_time": "2024-10-19T16:17:56.183Z"
   },
   {
    "duration": 0,
    "start_time": "2024-10-19T16:17:56.184Z"
   },
   {
    "duration": 1435,
    "start_time": "2024-10-19T16:20:30.740Z"
   },
   {
    "duration": 422,
    "start_time": "2024-10-19T16:20:32.177Z"
   },
   {
    "duration": 9,
    "start_time": "2024-10-19T16:20:32.601Z"
   },
   {
    "duration": 21,
    "start_time": "2024-10-19T16:20:32.612Z"
   },
   {
    "duration": 9,
    "start_time": "2024-10-19T16:20:32.636Z"
   },
   {
    "duration": 274,
    "start_time": "2024-10-19T16:20:32.647Z"
   },
   {
    "duration": 304,
    "start_time": "2024-10-19T16:20:32.923Z"
   },
   {
    "duration": 298,
    "start_time": "2024-10-19T16:20:33.230Z"
   },
   {
    "duration": 6826,
    "start_time": "2024-10-19T16:20:33.529Z"
   },
   {
    "duration": 6931,
    "start_time": "2024-10-19T16:20:40.357Z"
   },
   {
    "duration": 6970,
    "start_time": "2024-10-19T16:20:47.289Z"
   },
   {
    "duration": 617,
    "start_time": "2024-10-19T16:20:54.260Z"
   },
   {
    "duration": 394,
    "start_time": "2024-10-19T16:20:54.879Z"
   },
   {
    "duration": 392,
    "start_time": "2024-10-19T16:20:55.276Z"
   },
   {
    "duration": 367,
    "start_time": "2024-10-19T16:48:00.265Z"
   },
   {
    "duration": 161,
    "start_time": "2024-10-19T16:48:57.855Z"
   },
   {
    "duration": 1423,
    "start_time": "2024-10-19T16:51:27.013Z"
   },
   {
    "duration": 455,
    "start_time": "2024-10-19T16:51:28.439Z"
   },
   {
    "duration": 9,
    "start_time": "2024-10-19T16:51:28.896Z"
   },
   {
    "duration": 49,
    "start_time": "2024-10-19T16:51:28.907Z"
   },
   {
    "duration": 29,
    "start_time": "2024-10-19T16:51:28.959Z"
   },
   {
    "duration": 266,
    "start_time": "2024-10-19T16:51:28.990Z"
   },
   {
    "duration": 279,
    "start_time": "2024-10-19T16:51:29.257Z"
   },
   {
    "duration": 287,
    "start_time": "2024-10-19T16:51:29.537Z"
   },
   {
    "duration": 6927,
    "start_time": "2024-10-19T16:51:29.825Z"
   },
   {
    "duration": 7086,
    "start_time": "2024-10-19T16:51:36.753Z"
   },
   {
    "duration": 7014,
    "start_time": "2024-10-19T16:51:43.841Z"
   },
   {
    "duration": 565,
    "start_time": "2024-10-19T16:51:50.856Z"
   },
   {
    "duration": 349,
    "start_time": "2024-10-19T16:51:51.423Z"
   },
   {
    "duration": 390,
    "start_time": "2024-10-19T16:51:51.775Z"
   },
   {
    "duration": 175,
    "start_time": "2024-10-19T16:51:52.167Z"
   },
   {
    "duration": 69,
    "start_time": "2024-10-19T16:55:40.061Z"
   },
   {
    "duration": 1566,
    "start_time": "2024-10-19T16:55:47.205Z"
   },
   {
    "duration": 0,
    "start_time": "2024-10-19T16:55:48.772Z"
   },
   {
    "duration": 0,
    "start_time": "2024-10-19T16:55:48.774Z"
   },
   {
    "duration": 0,
    "start_time": "2024-10-19T16:55:48.775Z"
   },
   {
    "duration": 0,
    "start_time": "2024-10-19T16:55:48.776Z"
   },
   {
    "duration": 0,
    "start_time": "2024-10-19T16:55:48.777Z"
   },
   {
    "duration": 0,
    "start_time": "2024-10-19T16:55:48.778Z"
   },
   {
    "duration": 0,
    "start_time": "2024-10-19T16:55:48.779Z"
   },
   {
    "duration": 0,
    "start_time": "2024-10-19T16:55:48.780Z"
   },
   {
    "duration": 0,
    "start_time": "2024-10-19T16:55:48.781Z"
   },
   {
    "duration": 0,
    "start_time": "2024-10-19T16:55:48.782Z"
   },
   {
    "duration": 0,
    "start_time": "2024-10-19T16:55:48.783Z"
   },
   {
    "duration": 0,
    "start_time": "2024-10-19T16:55:48.784Z"
   },
   {
    "duration": 0,
    "start_time": "2024-10-19T16:55:48.786Z"
   },
   {
    "duration": 0,
    "start_time": "2024-10-19T16:55:48.787Z"
   },
   {
    "duration": 1465,
    "start_time": "2024-10-19T16:57:37.604Z"
   },
   {
    "duration": 435,
    "start_time": "2024-10-19T16:57:39.071Z"
   },
   {
    "duration": 12,
    "start_time": "2024-10-19T16:57:39.508Z"
   },
   {
    "duration": 12,
    "start_time": "2024-10-19T16:57:39.523Z"
   },
   {
    "duration": 23,
    "start_time": "2024-10-19T16:57:39.537Z"
   },
   {
    "duration": 315,
    "start_time": "2024-10-19T16:57:39.562Z"
   },
   {
    "duration": 305,
    "start_time": "2024-10-19T16:57:39.878Z"
   },
   {
    "duration": 271,
    "start_time": "2024-10-19T16:57:40.184Z"
   },
   {
    "duration": 6891,
    "start_time": "2024-10-19T16:57:40.457Z"
   },
   {
    "duration": 7071,
    "start_time": "2024-10-19T16:57:47.350Z"
   },
   {
    "duration": 7021,
    "start_time": "2024-10-19T16:57:54.423Z"
   },
   {
    "duration": 538,
    "start_time": "2024-10-19T16:58:01.446Z"
   },
   {
    "duration": 378,
    "start_time": "2024-10-19T16:58:01.987Z"
   },
   {
    "duration": 382,
    "start_time": "2024-10-19T16:58:02.367Z"
   },
   {
    "duration": 382,
    "start_time": "2024-10-19T16:58:02.751Z"
   },
   {
    "duration": 1458,
    "start_time": "2024-10-19T17:01:55.647Z"
   },
   {
    "duration": 3,
    "start_time": "2024-10-19T17:01:57.107Z"
   },
   {
    "duration": 438,
    "start_time": "2024-10-19T17:01:57.111Z"
   },
   {
    "duration": 10,
    "start_time": "2024-10-19T17:01:57.552Z"
   },
   {
    "duration": 11,
    "start_time": "2024-10-19T17:01:57.564Z"
   },
   {
    "duration": 15,
    "start_time": "2024-10-19T17:01:57.577Z"
   },
   {
    "duration": 8,
    "start_time": "2024-10-19T17:01:57.593Z"
   },
   {
    "duration": 292,
    "start_time": "2024-10-19T17:01:57.602Z"
   },
   {
    "duration": 295,
    "start_time": "2024-10-19T17:01:57.896Z"
   },
   {
    "duration": 275,
    "start_time": "2024-10-19T17:01:58.193Z"
   },
   {
    "duration": 6978,
    "start_time": "2024-10-19T17:01:58.469Z"
   },
   {
    "duration": 7097,
    "start_time": "2024-10-19T17:02:05.449Z"
   },
   {
    "duration": 6970,
    "start_time": "2024-10-19T17:02:12.547Z"
   },
   {
    "duration": 564,
    "start_time": "2024-10-19T17:02:19.520Z"
   },
   {
    "duration": 367,
    "start_time": "2024-10-19T17:02:20.085Z"
   },
   {
    "duration": 365,
    "start_time": "2024-10-19T17:02:20.453Z"
   },
   {
    "duration": 423,
    "start_time": "2024-10-19T17:02:20.819Z"
   },
   {
    "duration": 8,
    "start_time": "2024-10-19T17:16:40.980Z"
   },
   {
    "duration": 3,
    "start_time": "2024-10-19T17:20:33.905Z"
   },
   {
    "duration": 40,
    "start_time": "2024-10-19T17:20:49.420Z"
   },
   {
    "duration": 137,
    "start_time": "2024-10-19T17:35:52.221Z"
   },
   {
    "duration": 7,
    "start_time": "2024-10-19T17:36:45.795Z"
   },
   {
    "duration": 1166,
    "start_time": "2024-10-19T17:40:19.832Z"
   },
   {
    "duration": 4,
    "start_time": "2024-10-19T17:40:39.412Z"
   },
   {
    "duration": 1108,
    "start_time": "2024-10-19T17:41:00.451Z"
   },
   {
    "duration": 19,
    "start_time": "2024-10-19T17:46:27.128Z"
   },
   {
    "duration": 18,
    "start_time": "2024-10-19T17:47:16.161Z"
   },
   {
    "duration": 19,
    "start_time": "2024-10-19T17:47:44.797Z"
   },
   {
    "duration": 19,
    "start_time": "2024-10-19T17:49:31.513Z"
   },
   {
    "duration": 218,
    "start_time": "2024-10-19T17:50:17.219Z"
   },
   {
    "duration": 252,
    "start_time": "2024-10-19T17:50:45.881Z"
   },
   {
    "duration": 5601,
    "start_time": "2024-10-19T17:52:33.160Z"
   },
   {
    "duration": 16800,
    "start_time": "2024-10-19T17:54:05.854Z"
   },
   {
    "duration": 4,
    "start_time": "2024-10-19T17:57:08.161Z"
   },
   {
    "duration": 25,
    "start_time": "2024-10-19T17:57:29.230Z"
   },
   {
    "duration": 1594,
    "start_time": "2024-10-19T18:00:36.618Z"
   },
   {
    "duration": 3,
    "start_time": "2024-10-19T18:00:38.214Z"
   },
   {
    "duration": 505,
    "start_time": "2024-10-19T18:00:38.219Z"
   },
   {
    "duration": 12,
    "start_time": "2024-10-19T18:00:38.727Z"
   },
   {
    "duration": 17,
    "start_time": "2024-10-19T18:00:38.741Z"
   },
   {
    "duration": 6,
    "start_time": "2024-10-19T18:00:38.759Z"
   },
   {
    "duration": 7,
    "start_time": "2024-10-19T18:00:38.766Z"
   },
   {
    "duration": 311,
    "start_time": "2024-10-19T18:00:38.775Z"
   },
   {
    "duration": 301,
    "start_time": "2024-10-19T18:00:39.087Z"
   },
   {
    "duration": 308,
    "start_time": "2024-10-19T18:00:39.390Z"
   },
   {
    "duration": 7336,
    "start_time": "2024-10-19T18:00:39.700Z"
   },
   {
    "duration": 7380,
    "start_time": "2024-10-19T18:00:47.037Z"
   },
   {
    "duration": 7286,
    "start_time": "2024-10-19T18:00:54.420Z"
   },
   {
    "duration": 634,
    "start_time": "2024-10-19T18:01:01.710Z"
   },
   {
    "duration": 359,
    "start_time": "2024-10-19T18:01:02.347Z"
   },
   {
    "duration": 368,
    "start_time": "2024-10-19T18:01:02.708Z"
   },
   {
    "duration": 300,
    "start_time": "2024-10-19T18:01:03.079Z"
   },
   {
    "duration": 0,
    "start_time": "2024-10-19T18:01:03.381Z"
   },
   {
    "duration": 0,
    "start_time": "2024-10-19T18:01:03.382Z"
   },
   {
    "duration": 0,
    "start_time": "2024-10-19T18:01:03.384Z"
   },
   {
    "duration": 0,
    "start_time": "2024-10-19T18:01:03.385Z"
   },
   {
    "duration": 373,
    "start_time": "2024-10-19T18:01:47.258Z"
   },
   {
    "duration": 1606,
    "start_time": "2024-10-19T18:01:53.396Z"
   },
   {
    "duration": 3,
    "start_time": "2024-10-19T18:01:55.004Z"
   },
   {
    "duration": 513,
    "start_time": "2024-10-19T18:01:55.008Z"
   },
   {
    "duration": 9,
    "start_time": "2024-10-19T18:01:55.523Z"
   },
   {
    "duration": 16,
    "start_time": "2024-10-19T18:01:55.536Z"
   },
   {
    "duration": 14,
    "start_time": "2024-10-19T18:01:55.554Z"
   },
   {
    "duration": 7,
    "start_time": "2024-10-19T18:01:55.570Z"
   },
   {
    "duration": 360,
    "start_time": "2024-10-19T18:01:55.579Z"
   },
   {
    "duration": 303,
    "start_time": "2024-10-19T18:01:55.940Z"
   },
   {
    "duration": 301,
    "start_time": "2024-10-19T18:01:56.244Z"
   },
   {
    "duration": 7500,
    "start_time": "2024-10-19T18:01:56.547Z"
   },
   {
    "duration": 7254,
    "start_time": "2024-10-19T18:02:04.049Z"
   },
   {
    "duration": 7455,
    "start_time": "2024-10-19T18:02:11.305Z"
   },
   {
    "duration": 608,
    "start_time": "2024-10-19T18:02:18.763Z"
   },
   {
    "duration": 391,
    "start_time": "2024-10-19T18:02:19.372Z"
   },
   {
    "duration": 402,
    "start_time": "2024-10-19T18:02:19.765Z"
   },
   {
    "duration": 175,
    "start_time": "2024-10-19T18:02:20.168Z"
   },
   {
    "duration": 10,
    "start_time": "2024-10-19T18:02:20.421Z"
   },
   {
    "duration": 125,
    "start_time": "2024-10-19T18:02:20.434Z"
   },
   {
    "duration": 283,
    "start_time": "2024-10-19T18:02:20.560Z"
   },
   {
    "duration": 0,
    "start_time": "2024-10-19T18:02:20.845Z"
   },
   {
    "duration": 17027,
    "start_time": "2024-10-19T18:04:44.183Z"
   },
   {
    "duration": 16882,
    "start_time": "2024-10-19T18:05:28.013Z"
   },
   {
    "duration": 37,
    "start_time": "2024-10-19T18:07:49.963Z"
   },
   {
    "duration": 409,
    "start_time": "2024-10-19T18:12:25.513Z"
   },
   {
    "duration": 3,
    "start_time": "2024-10-19T18:12:31.044Z"
   },
   {
    "duration": 39,
    "start_time": "2024-10-19T18:12:33.268Z"
   },
   {
    "duration": 36,
    "start_time": "2024-10-19T18:12:36.280Z"
   },
   {
    "duration": 36,
    "start_time": "2024-10-19T18:12:48.676Z"
   },
   {
    "duration": 12,
    "start_time": "2024-10-19T18:13:53.389Z"
   },
   {
    "duration": 8,
    "start_time": "2024-10-19T18:14:39.190Z"
   },
   {
    "duration": 11,
    "start_time": "2024-10-19T18:14:44.651Z"
   },
   {
    "duration": 433,
    "start_time": "2024-10-19T18:17:03.604Z"
   },
   {
    "duration": 35,
    "start_time": "2024-10-19T18:18:10.798Z"
   },
   {
    "duration": 5721,
    "start_time": "2024-10-19T18:19:12.418Z"
   },
   {
    "duration": 73,
    "start_time": "2024-10-19T18:23:13.430Z"
   },
   {
    "duration": 5663,
    "start_time": "2024-10-19T18:23:50.177Z"
   },
   {
    "duration": 23,
    "start_time": "2024-10-19T18:27:46.625Z"
   },
   {
    "duration": 22,
    "start_time": "2024-10-19T18:33:20.641Z"
   },
   {
    "duration": 20,
    "start_time": "2024-10-19T18:35:29.136Z"
   },
   {
    "duration": 8199,
    "start_time": "2024-10-19T18:36:55.828Z"
   },
   {
    "duration": 52,
    "start_time": "2024-10-20T08:17:43.990Z"
   },
   {
    "duration": 14,
    "start_time": "2024-10-20T08:20:13.648Z"
   },
   {
    "duration": 1528,
    "start_time": "2024-10-20T08:20:32.492Z"
   },
   {
    "duration": 2,
    "start_time": "2024-10-20T08:20:34.023Z"
   },
   {
    "duration": 1719,
    "start_time": "2024-10-20T08:20:34.027Z"
   },
   {
    "duration": 9,
    "start_time": "2024-10-20T08:20:35.748Z"
   },
   {
    "duration": 28,
    "start_time": "2024-10-20T08:20:35.760Z"
   },
   {
    "duration": 29,
    "start_time": "2024-10-20T08:20:35.789Z"
   },
   {
    "duration": 5,
    "start_time": "2024-10-20T08:20:35.819Z"
   },
   {
    "duration": 283,
    "start_time": "2024-10-20T08:20:35.825Z"
   },
   {
    "duration": 254,
    "start_time": "2024-10-20T08:20:36.109Z"
   },
   {
    "duration": 250,
    "start_time": "2024-10-20T08:20:36.365Z"
   },
   {
    "duration": 6325,
    "start_time": "2024-10-20T08:20:36.616Z"
   },
   {
    "duration": 6446,
    "start_time": "2024-10-20T08:20:42.942Z"
   },
   {
    "duration": 6897,
    "start_time": "2024-10-20T08:20:49.390Z"
   },
   {
    "duration": 503,
    "start_time": "2024-10-20T08:20:56.290Z"
   },
   {
    "duration": 372,
    "start_time": "2024-10-20T08:20:56.794Z"
   },
   {
    "duration": 324,
    "start_time": "2024-10-20T08:20:57.168Z"
   },
   {
    "duration": 366,
    "start_time": "2024-10-20T08:20:57.494Z"
   },
   {
    "duration": 87,
    "start_time": "2024-10-20T08:20:57.865Z"
   },
   {
    "duration": 125,
    "start_time": "2024-10-20T08:20:57.955Z"
   },
   {
    "duration": 4486,
    "start_time": "2024-10-20T08:20:58.082Z"
   },
   {
    "duration": 4212,
    "start_time": "2024-10-20T08:21:02.569Z"
   },
   {
    "duration": 1303,
    "start_time": "2024-10-20T08:33:25.900Z"
   },
   {
    "duration": 3,
    "start_time": "2024-10-20T08:33:27.205Z"
   },
   {
    "duration": 432,
    "start_time": "2024-10-20T08:33:27.209Z"
   },
   {
    "duration": 9,
    "start_time": "2024-10-20T08:33:27.643Z"
   },
   {
    "duration": 29,
    "start_time": "2024-10-20T08:33:27.654Z"
   },
   {
    "duration": 8,
    "start_time": "2024-10-20T08:33:27.685Z"
   },
   {
    "duration": 8,
    "start_time": "2024-10-20T08:33:27.695Z"
   },
   {
    "duration": 252,
    "start_time": "2024-10-20T08:33:27.705Z"
   },
   {
    "duration": 261,
    "start_time": "2024-10-20T08:33:27.958Z"
   },
   {
    "duration": 273,
    "start_time": "2024-10-20T08:33:28.221Z"
   },
   {
    "duration": 6597,
    "start_time": "2024-10-20T08:33:28.495Z"
   },
   {
    "duration": 6507,
    "start_time": "2024-10-20T08:33:35.094Z"
   },
   {
    "duration": 6499,
    "start_time": "2024-10-20T08:33:41.603Z"
   },
   {
    "duration": 488,
    "start_time": "2024-10-20T08:33:48.104Z"
   },
   {
    "duration": 330,
    "start_time": "2024-10-20T08:33:48.593Z"
   },
   {
    "duration": 355,
    "start_time": "2024-10-20T08:33:48.924Z"
   },
   {
    "duration": 372,
    "start_time": "2024-10-20T08:33:49.281Z"
   },
   {
    "duration": 96,
    "start_time": "2024-10-20T08:33:49.656Z"
   },
   {
    "duration": 30,
    "start_time": "2024-10-20T08:33:49.754Z"
   },
   {
    "duration": 125,
    "start_time": "2024-10-20T08:33:49.785Z"
   },
   {
    "duration": 1377,
    "start_time": "2024-10-20T08:34:52.515Z"
   },
   {
    "duration": 4,
    "start_time": "2024-10-20T08:34:53.895Z"
   },
   {
    "duration": 430,
    "start_time": "2024-10-20T08:34:53.901Z"
   },
   {
    "duration": 9,
    "start_time": "2024-10-20T08:34:54.333Z"
   },
   {
    "duration": 9,
    "start_time": "2024-10-20T08:34:54.351Z"
   },
   {
    "duration": 5,
    "start_time": "2024-10-20T08:34:54.361Z"
   },
   {
    "duration": 6,
    "start_time": "2024-10-20T08:34:54.367Z"
   },
   {
    "duration": 254,
    "start_time": "2024-10-20T08:34:54.374Z"
   },
   {
    "duration": 262,
    "start_time": "2024-10-20T08:34:54.630Z"
   },
   {
    "duration": 259,
    "start_time": "2024-10-20T08:34:54.894Z"
   },
   {
    "duration": 6558,
    "start_time": "2024-10-20T08:34:55.155Z"
   },
   {
    "duration": 6774,
    "start_time": "2024-10-20T08:35:01.714Z"
   },
   {
    "duration": 6613,
    "start_time": "2024-10-20T08:35:08.490Z"
   },
   {
    "duration": 549,
    "start_time": "2024-10-20T08:35:15.105Z"
   },
   {
    "duration": 341,
    "start_time": "2024-10-20T08:35:15.656Z"
   },
   {
    "duration": 370,
    "start_time": "2024-10-20T08:35:15.999Z"
   },
   {
    "duration": 289,
    "start_time": "2024-10-20T08:35:16.371Z"
   },
   {
    "duration": 3,
    "start_time": "2024-10-20T08:35:16.662Z"
   },
   {
    "duration": 121,
    "start_time": "2024-10-20T08:35:16.754Z"
   },
   {
    "duration": 4104,
    "start_time": "2024-10-20T08:35:16.877Z"
   },
   {
    "duration": 4654,
    "start_time": "2024-10-20T08:39:10.056Z"
   },
   {
    "duration": 469,
    "start_time": "2024-10-20T08:41:35.938Z"
   },
   {
    "duration": 184,
    "start_time": "2024-10-20T08:42:09.927Z"
   },
   {
    "duration": 367,
    "start_time": "2024-10-20T08:43:37.636Z"
   },
   {
    "duration": 378,
    "start_time": "2024-10-20T08:44:09.926Z"
   },
   {
    "duration": 421,
    "start_time": "2024-10-20T08:45:37.572Z"
   },
   {
    "duration": 148,
    "start_time": "2024-10-20T08:48:41.400Z"
   },
   {
    "duration": 4884,
    "start_time": "2024-10-20T08:49:43.468Z"
   },
   {
    "duration": 5,
    "start_time": "2024-10-20T08:49:54.051Z"
   },
   {
    "duration": 1352,
    "start_time": "2024-10-20T08:50:04.485Z"
   },
   {
    "duration": 3,
    "start_time": "2024-10-20T08:50:05.839Z"
   },
   {
    "duration": 426,
    "start_time": "2024-10-20T08:50:05.843Z"
   },
   {
    "duration": 9,
    "start_time": "2024-10-20T08:50:06.271Z"
   },
   {
    "duration": 24,
    "start_time": "2024-10-20T08:50:06.282Z"
   },
   {
    "duration": 11,
    "start_time": "2024-10-20T08:50:06.308Z"
   },
   {
    "duration": 4,
    "start_time": "2024-10-20T08:50:06.321Z"
   },
   {
    "duration": 242,
    "start_time": "2024-10-20T08:50:06.326Z"
   },
   {
    "duration": 249,
    "start_time": "2024-10-20T08:50:06.569Z"
   },
   {
    "duration": 274,
    "start_time": "2024-10-20T08:50:06.820Z"
   },
   {
    "duration": 6288,
    "start_time": "2024-10-20T08:50:07.096Z"
   },
   {
    "duration": 6537,
    "start_time": "2024-10-20T08:50:13.386Z"
   },
   {
    "duration": 6378,
    "start_time": "2024-10-20T08:50:19.924Z"
   },
   {
    "duration": 598,
    "start_time": "2024-10-20T08:50:26.305Z"
   },
   {
    "duration": 367,
    "start_time": "2024-10-20T08:50:26.905Z"
   },
   {
    "duration": 324,
    "start_time": "2024-10-20T08:50:27.274Z"
   },
   {
    "duration": 357,
    "start_time": "2024-10-20T08:50:27.599Z"
   },
   {
    "duration": 94,
    "start_time": "2024-10-20T08:50:27.959Z"
   },
   {
    "duration": 123,
    "start_time": "2024-10-20T08:50:28.056Z"
   },
   {
    "duration": 4142,
    "start_time": "2024-10-20T08:50:28.181Z"
   },
   {
    "duration": 6,
    "start_time": "2024-10-20T08:50:32.325Z"
   },
   {
    "duration": 156,
    "start_time": "2024-10-20T08:50:32.353Z"
   },
   {
    "duration": 1334,
    "start_time": "2024-10-20T08:52:42.012Z"
   },
   {
    "duration": 3,
    "start_time": "2024-10-20T08:52:43.348Z"
   },
   {
    "duration": 405,
    "start_time": "2024-10-20T08:52:43.352Z"
   },
   {
    "duration": 8,
    "start_time": "2024-10-20T08:52:43.760Z"
   },
   {
    "duration": 8,
    "start_time": "2024-10-20T08:52:43.770Z"
   },
   {
    "duration": 8,
    "start_time": "2024-10-20T08:52:43.779Z"
   },
   {
    "duration": 9,
    "start_time": "2024-10-20T08:52:43.788Z"
   },
   {
    "duration": 306,
    "start_time": "2024-10-20T08:52:43.799Z"
   },
   {
    "duration": 232,
    "start_time": "2024-10-20T08:52:44.106Z"
   },
   {
    "duration": 241,
    "start_time": "2024-10-20T08:52:44.340Z"
   },
   {
    "duration": 6441,
    "start_time": "2024-10-20T08:52:44.583Z"
   },
   {
    "duration": 6676,
    "start_time": "2024-10-20T08:52:51.026Z"
   },
   {
    "duration": 6619,
    "start_time": "2024-10-20T08:52:57.703Z"
   },
   {
    "duration": 558,
    "start_time": "2024-10-20T08:53:04.324Z"
   },
   {
    "duration": 321,
    "start_time": "2024-10-20T08:53:04.883Z"
   },
   {
    "duration": 364,
    "start_time": "2024-10-20T08:53:05.205Z"
   },
   {
    "duration": 390,
    "start_time": "2024-10-20T08:53:05.570Z"
   },
   {
    "duration": 90,
    "start_time": "2024-10-20T08:53:05.962Z"
   },
   {
    "duration": 114,
    "start_time": "2024-10-20T08:53:06.055Z"
   },
   {
    "duration": 4090,
    "start_time": "2024-10-20T08:53:06.171Z"
   },
   {
    "duration": 5,
    "start_time": "2024-10-20T08:53:10.263Z"
   },
   {
    "duration": 128,
    "start_time": "2024-10-20T08:53:10.269Z"
   },
   {
    "duration": 0,
    "start_time": "2024-10-20T08:53:10.398Z"
   },
   {
    "duration": 1353,
    "start_time": "2024-10-20T08:53:32.090Z"
   },
   {
    "duration": 2,
    "start_time": "2024-10-20T08:53:33.445Z"
   },
   {
    "duration": 410,
    "start_time": "2024-10-20T08:53:33.449Z"
   },
   {
    "duration": 11,
    "start_time": "2024-10-20T08:53:33.861Z"
   },
   {
    "duration": 9,
    "start_time": "2024-10-20T08:53:33.874Z"
   },
   {
    "duration": 42,
    "start_time": "2024-10-20T08:53:33.886Z"
   },
   {
    "duration": 24,
    "start_time": "2024-10-20T08:53:33.930Z"
   },
   {
    "duration": 257,
    "start_time": "2024-10-20T08:53:33.957Z"
   },
   {
    "duration": 258,
    "start_time": "2024-10-20T08:53:34.215Z"
   },
   {
    "duration": 256,
    "start_time": "2024-10-20T08:53:34.474Z"
   },
   {
    "duration": 6342,
    "start_time": "2024-10-20T08:53:34.731Z"
   },
   {
    "duration": 6465,
    "start_time": "2024-10-20T08:53:41.075Z"
   },
   {
    "duration": 6217,
    "start_time": "2024-10-20T08:53:47.542Z"
   },
   {
    "duration": 577,
    "start_time": "2024-10-20T08:53:53.762Z"
   },
   {
    "duration": 332,
    "start_time": "2024-10-20T08:53:54.340Z"
   },
   {
    "duration": 311,
    "start_time": "2024-10-20T08:53:54.673Z"
   },
   {
    "duration": 368,
    "start_time": "2024-10-20T08:53:54.986Z"
   },
   {
    "duration": 93,
    "start_time": "2024-10-20T08:53:55.360Z"
   },
   {
    "duration": 50,
    "start_time": "2024-10-20T08:53:55.455Z"
   },
   {
    "duration": 4122,
    "start_time": "2024-10-20T08:53:55.506Z"
   },
   {
    "duration": 4,
    "start_time": "2024-10-20T08:53:59.630Z"
   },
   {
    "duration": 74,
    "start_time": "2024-10-20T08:53:59.651Z"
   },
   {
    "duration": 147,
    "start_time": "2024-10-20T08:53:59.728Z"
   },
   {
    "duration": 542,
    "start_time": "2024-10-20T08:54:55.231Z"
   },
   {
    "duration": 1385,
    "start_time": "2024-10-20T08:55:08.337Z"
   },
   {
    "duration": 2,
    "start_time": "2024-10-20T08:55:09.724Z"
   },
   {
    "duration": 407,
    "start_time": "2024-10-20T08:55:09.728Z"
   },
   {
    "duration": 15,
    "start_time": "2024-10-20T08:55:10.137Z"
   },
   {
    "duration": 67,
    "start_time": "2024-10-20T08:55:10.153Z"
   },
   {
    "duration": 9,
    "start_time": "2024-10-20T08:55:10.221Z"
   },
   {
    "duration": 14,
    "start_time": "2024-10-20T08:55:10.231Z"
   },
   {
    "duration": 252,
    "start_time": "2024-10-20T08:55:10.246Z"
   },
   {
    "duration": 270,
    "start_time": "2024-10-20T08:55:10.500Z"
   },
   {
    "duration": 250,
    "start_time": "2024-10-20T08:55:10.772Z"
   },
   {
    "duration": 6376,
    "start_time": "2024-10-20T08:55:11.024Z"
   },
   {
    "duration": 6331,
    "start_time": "2024-10-20T08:55:17.403Z"
   },
   {
    "duration": 6319,
    "start_time": "2024-10-20T08:55:23.736Z"
   },
   {
    "duration": 526,
    "start_time": "2024-10-20T08:55:30.057Z"
   },
   {
    "duration": 326,
    "start_time": "2024-10-20T08:55:30.585Z"
   },
   {
    "duration": 365,
    "start_time": "2024-10-20T08:55:30.913Z"
   },
   {
    "duration": 277,
    "start_time": "2024-10-20T08:55:31.279Z"
   },
   {
    "duration": 3,
    "start_time": "2024-10-20T08:55:31.558Z"
   },
   {
    "duration": 141,
    "start_time": "2024-10-20T08:55:31.653Z"
   },
   {
    "duration": 4037,
    "start_time": "2024-10-20T08:55:31.796Z"
   },
   {
    "duration": 4,
    "start_time": "2024-10-20T08:55:35.834Z"
   },
   {
    "duration": 550,
    "start_time": "2024-10-20T08:55:35.840Z"
   },
   {
    "duration": 0,
    "start_time": "2024-10-20T08:55:36.392Z"
   },
   {
    "duration": 153,
    "start_time": "2024-10-20T08:55:56.049Z"
   },
   {
    "duration": 1594,
    "start_time": "2024-10-21T11:50:52.261Z"
   },
   {
    "duration": 2,
    "start_time": "2024-10-21T11:50:53.858Z"
   },
   {
    "duration": 925,
    "start_time": "2024-10-21T11:50:53.862Z"
   },
   {
    "duration": 11,
    "start_time": "2024-10-21T11:50:54.789Z"
   },
   {
    "duration": 9,
    "start_time": "2024-10-21T11:50:54.803Z"
   },
   {
    "duration": 5,
    "start_time": "2024-10-21T11:50:54.814Z"
   },
   {
    "duration": 5,
    "start_time": "2024-10-21T11:50:54.821Z"
   },
   {
    "duration": 315,
    "start_time": "2024-10-21T11:50:54.828Z"
   },
   {
    "duration": 258,
    "start_time": "2024-10-21T11:50:55.145Z"
   },
   {
    "duration": 287,
    "start_time": "2024-10-21T11:50:55.405Z"
   },
   {
    "duration": 6857,
    "start_time": "2024-10-21T11:50:55.694Z"
   },
   {
    "duration": 6716,
    "start_time": "2024-10-21T11:51:02.552Z"
   },
   {
    "duration": 6884,
    "start_time": "2024-10-21T11:51:09.270Z"
   },
   {
    "duration": 534,
    "start_time": "2024-10-21T11:51:16.156Z"
   },
   {
    "duration": 390,
    "start_time": "2024-10-21T11:51:16.692Z"
   },
   {
    "duration": 403,
    "start_time": "2024-10-21T11:51:17.084Z"
   },
   {
    "duration": 458,
    "start_time": "2024-10-21T11:51:17.489Z"
   },
   {
    "duration": 89,
    "start_time": "2024-10-21T11:51:17.954Z"
   },
   {
    "duration": 36,
    "start_time": "2024-10-21T11:51:18.045Z"
   },
   {
    "duration": 134,
    "start_time": "2024-10-21T11:51:18.083Z"
   },
   {
    "duration": 0,
    "start_time": "2024-10-21T11:51:18.219Z"
   },
   {
    "duration": 0,
    "start_time": "2024-10-21T11:51:18.220Z"
   },
   {
    "duration": 0,
    "start_time": "2024-10-21T11:51:18.221Z"
   },
   {
    "duration": 1669,
    "start_time": "2024-10-21T11:52:09.439Z"
   },
   {
    "duration": 3,
    "start_time": "2024-10-21T11:52:11.110Z"
   },
   {
    "duration": 445,
    "start_time": "2024-10-21T11:52:11.114Z"
   },
   {
    "duration": 9,
    "start_time": "2024-10-21T11:52:11.561Z"
   },
   {
    "duration": 30,
    "start_time": "2024-10-21T11:52:11.571Z"
   },
   {
    "duration": 95,
    "start_time": "2024-10-21T11:52:11.602Z"
   },
   {
    "duration": 5,
    "start_time": "2024-10-21T11:52:11.699Z"
   },
   {
    "duration": 253,
    "start_time": "2024-10-21T11:52:11.706Z"
   },
   {
    "duration": 261,
    "start_time": "2024-10-21T11:52:11.961Z"
   },
   {
    "duration": 290,
    "start_time": "2024-10-21T11:52:12.225Z"
   },
   {
    "duration": 6894,
    "start_time": "2024-10-21T11:52:12.517Z"
   },
   {
    "duration": 6772,
    "start_time": "2024-10-21T11:52:19.413Z"
   },
   {
    "duration": 6817,
    "start_time": "2024-10-21T11:52:26.187Z"
   },
   {
    "duration": 581,
    "start_time": "2024-10-21T11:52:33.005Z"
   },
   {
    "duration": 363,
    "start_time": "2024-10-21T11:52:33.588Z"
   },
   {
    "duration": 325,
    "start_time": "2024-10-21T11:52:33.952Z"
   },
   {
    "duration": 365,
    "start_time": "2024-10-21T11:52:34.279Z"
   },
   {
    "duration": 4,
    "start_time": "2024-10-21T11:52:34.646Z"
   },
   {
    "duration": 122,
    "start_time": "2024-10-21T11:52:34.652Z"
   },
   {
    "duration": 4715,
    "start_time": "2024-10-21T11:52:34.776Z"
   },
   {
    "duration": 4324,
    "start_time": "2024-10-21T11:52:39.492Z"
   },
   {
    "duration": 5,
    "start_time": "2024-10-21T11:52:43.817Z"
   },
   {
    "duration": 168,
    "start_time": "2024-10-21T11:52:43.823Z"
   },
   {
    "duration": 1431,
    "start_time": "2024-10-21T11:53:45.725Z"
   },
   {
    "duration": 2,
    "start_time": "2024-10-21T11:53:47.158Z"
   },
   {
    "duration": 406,
    "start_time": "2024-10-21T11:53:47.162Z"
   },
   {
    "duration": 10,
    "start_time": "2024-10-21T11:53:47.570Z"
   },
   {
    "duration": 24,
    "start_time": "2024-10-21T11:53:47.581Z"
   },
   {
    "duration": 42,
    "start_time": "2024-10-21T11:53:47.606Z"
   },
   {
    "duration": 9,
    "start_time": "2024-10-21T11:53:47.649Z"
   },
   {
    "duration": 248,
    "start_time": "2024-10-21T11:53:47.660Z"
   },
   {
    "duration": 267,
    "start_time": "2024-10-21T11:53:47.909Z"
   },
   {
    "duration": 282,
    "start_time": "2024-10-21T11:53:48.178Z"
   },
   {
    "duration": 6705,
    "start_time": "2024-10-21T11:53:48.462Z"
   },
   {
    "duration": 6686,
    "start_time": "2024-10-21T11:53:55.168Z"
   },
   {
    "duration": 6620,
    "start_time": "2024-10-21T11:54:01.855Z"
   },
   {
    "duration": 539,
    "start_time": "2024-10-21T11:54:08.477Z"
   },
   {
    "duration": 371,
    "start_time": "2024-10-21T11:54:09.019Z"
   },
   {
    "duration": 388,
    "start_time": "2024-10-21T11:54:09.392Z"
   },
   {
    "duration": 274,
    "start_time": "2024-10-21T11:54:09.782Z"
   },
   {
    "duration": 5,
    "start_time": "2024-10-21T11:54:10.148Z"
   },
   {
    "duration": 113,
    "start_time": "2024-10-21T11:54:10.243Z"
   },
   {
    "duration": 1425,
    "start_time": "2024-10-21T11:54:13.531Z"
   },
   {
    "duration": 182,
    "start_time": "2024-10-21T11:54:14.958Z"
   },
   {
    "duration": 3,
    "start_time": "2024-10-21T11:54:15.143Z"
   },
   {
    "duration": 459,
    "start_time": "2024-10-21T11:54:15.148Z"
   },
   {
    "duration": 9,
    "start_time": "2024-10-21T11:54:15.609Z"
   },
   {
    "duration": 81,
    "start_time": "2024-10-21T11:54:15.620Z"
   },
   {
    "duration": 17,
    "start_time": "2024-10-21T11:54:15.703Z"
   },
   {
    "duration": 5,
    "start_time": "2024-10-21T11:54:15.722Z"
   },
   {
    "duration": 250,
    "start_time": "2024-10-21T11:54:15.729Z"
   },
   {
    "duration": 306,
    "start_time": "2024-10-21T11:54:15.982Z"
   },
   {
    "duration": 295,
    "start_time": "2024-10-21T11:54:16.290Z"
   },
   {
    "duration": 6924,
    "start_time": "2024-10-21T11:54:16.587Z"
   },
   {
    "duration": 6757,
    "start_time": "2024-10-21T11:54:23.512Z"
   },
   {
    "duration": 6804,
    "start_time": "2024-10-21T11:54:30.272Z"
   },
   {
    "duration": 602,
    "start_time": "2024-10-21T11:54:37.077Z"
   },
   {
    "duration": 341,
    "start_time": "2024-10-21T11:54:37.681Z"
   },
   {
    "duration": 359,
    "start_time": "2024-10-21T11:54:38.024Z"
   },
   {
    "duration": 272,
    "start_time": "2024-10-21T11:54:38.384Z"
   },
   {
    "duration": 86,
    "start_time": "2024-10-21T11:54:38.658Z"
   },
   {
    "duration": 126,
    "start_time": "2024-10-21T11:54:38.746Z"
   },
   {
    "duration": 4308,
    "start_time": "2024-10-21T11:54:38.874Z"
   },
   {
    "duration": 4,
    "start_time": "2024-10-21T11:54:43.184Z"
   },
   {
    "duration": 177,
    "start_time": "2024-10-21T11:54:43.190Z"
   },
   {
    "duration": 1359,
    "start_time": "2024-10-21T11:55:34.269Z"
   },
   {
    "duration": 35,
    "start_time": "2024-10-21T11:55:35.630Z"
   },
   {
    "duration": 58,
    "start_time": "2024-10-21T11:55:35.667Z"
   },
   {
    "duration": 454,
    "start_time": "2024-10-21T11:55:35.727Z"
   },
   {
    "duration": 9,
    "start_time": "2024-10-21T11:55:36.183Z"
   },
   {
    "duration": 111,
    "start_time": "2024-10-21T11:55:36.193Z"
   },
   {
    "duration": 24,
    "start_time": "2024-10-21T11:55:36.305Z"
   },
   {
    "duration": 17,
    "start_time": "2024-10-21T11:55:36.331Z"
   },
   {
    "duration": 257,
    "start_time": "2024-10-21T11:55:36.349Z"
   },
   {
    "duration": 289,
    "start_time": "2024-10-21T11:55:36.610Z"
   },
   {
    "duration": 283,
    "start_time": "2024-10-21T11:55:36.900Z"
   },
   {
    "duration": 6666,
    "start_time": "2024-10-21T11:55:37.185Z"
   },
   {
    "duration": 6707,
    "start_time": "2024-10-21T11:55:43.854Z"
   },
   {
    "duration": 6539,
    "start_time": "2024-10-21T11:55:50.562Z"
   },
   {
    "duration": 527,
    "start_time": "2024-10-21T11:55:57.102Z"
   },
   {
    "duration": 381,
    "start_time": "2024-10-21T11:55:57.631Z"
   },
   {
    "duration": 360,
    "start_time": "2024-10-21T11:55:58.014Z"
   },
   {
    "duration": 467,
    "start_time": "2024-10-21T11:55:58.376Z"
   },
   {
    "duration": 5,
    "start_time": "2024-10-21T11:55:58.845Z"
   },
   {
    "duration": 128,
    "start_time": "2024-10-21T11:55:58.852Z"
   },
   {
    "duration": 4990,
    "start_time": "2024-10-21T11:55:58.982Z"
   },
   {
    "duration": 5,
    "start_time": "2024-10-21T11:56:03.973Z"
   },
   {
    "duration": 251,
    "start_time": "2024-10-21T11:56:03.979Z"
   },
   {
    "duration": 123,
    "start_time": "2024-10-21T12:01:02.514Z"
   },
   {
    "duration": 14,
    "start_time": "2024-10-21T12:01:42.233Z"
   },
   {
    "duration": 349,
    "start_time": "2024-10-21T12:02:17.858Z"
   },
   {
    "duration": 1504,
    "start_time": "2024-10-21T12:02:26.031Z"
   },
   {
    "duration": 31,
    "start_time": "2024-10-21T12:02:27.537Z"
   },
   {
    "duration": 3,
    "start_time": "2024-10-21T12:02:27.570Z"
   },
   {
    "duration": 411,
    "start_time": "2024-10-21T12:02:27.575Z"
   },
   {
    "duration": 8,
    "start_time": "2024-10-21T12:02:27.989Z"
   },
   {
    "duration": 116,
    "start_time": "2024-10-21T12:02:27.999Z"
   },
   {
    "duration": 22,
    "start_time": "2024-10-21T12:02:28.116Z"
   },
   {
    "duration": 89,
    "start_time": "2024-10-21T12:02:28.139Z"
   },
   {
    "duration": 289,
    "start_time": "2024-10-21T12:02:28.229Z"
   },
   {
    "duration": 345,
    "start_time": "2024-10-21T12:02:28.519Z"
   },
   {
    "duration": 301,
    "start_time": "2024-10-21T12:02:28.867Z"
   },
   {
    "duration": 7005,
    "start_time": "2024-10-21T12:02:29.170Z"
   },
   {
    "duration": 6757,
    "start_time": "2024-10-21T12:02:36.176Z"
   },
   {
    "duration": 6932,
    "start_time": "2024-10-21T12:02:42.935Z"
   },
   {
    "duration": 545,
    "start_time": "2024-10-21T12:02:49.869Z"
   },
   {
    "duration": 357,
    "start_time": "2024-10-21T12:02:50.415Z"
   },
   {
    "duration": 406,
    "start_time": "2024-10-21T12:02:50.775Z"
   },
   {
    "duration": 366,
    "start_time": "2024-10-21T12:02:51.182Z"
   },
   {
    "duration": 4,
    "start_time": "2024-10-21T12:02:51.551Z"
   },
   {
    "duration": 130,
    "start_time": "2024-10-21T12:02:51.644Z"
   },
   {
    "duration": 5010,
    "start_time": "2024-10-21T12:02:51.775Z"
   },
   {
    "duration": 454,
    "start_time": "2024-10-21T12:02:56.787Z"
   },
   {
    "duration": 0,
    "start_time": "2024-10-21T12:02:57.243Z"
   },
   {
    "duration": 0,
    "start_time": "2024-10-21T12:02:57.243Z"
   },
   {
    "duration": 1347,
    "start_time": "2024-10-21T12:04:59.782Z"
   },
   {
    "duration": 36,
    "start_time": "2024-10-21T12:05:01.131Z"
   },
   {
    "duration": 24,
    "start_time": "2024-10-21T12:05:01.169Z"
   },
   {
    "duration": 416,
    "start_time": "2024-10-21T12:05:01.195Z"
   },
   {
    "duration": 9,
    "start_time": "2024-10-21T12:05:01.613Z"
   },
   {
    "duration": 121,
    "start_time": "2024-10-21T12:05:01.624Z"
   },
   {
    "duration": 36,
    "start_time": "2024-10-21T12:05:01.746Z"
   },
   {
    "duration": 44,
    "start_time": "2024-10-21T12:05:01.784Z"
   },
   {
    "duration": 280,
    "start_time": "2024-10-21T12:05:01.830Z"
   },
   {
    "duration": 296,
    "start_time": "2024-10-21T12:05:02.114Z"
   },
   {
    "duration": 287,
    "start_time": "2024-10-21T12:05:02.412Z"
   },
   {
    "duration": 6558,
    "start_time": "2024-10-21T12:05:02.701Z"
   },
   {
    "duration": 6597,
    "start_time": "2024-10-21T12:05:09.260Z"
   },
   {
    "duration": 6597,
    "start_time": "2024-10-21T12:05:15.859Z"
   },
   {
    "duration": 513,
    "start_time": "2024-10-21T12:05:22.457Z"
   },
   {
    "duration": 313,
    "start_time": "2024-10-21T12:05:22.971Z"
   },
   {
    "duration": 366,
    "start_time": "2024-10-21T12:05:23.286Z"
   },
   {
    "duration": 392,
    "start_time": "2024-10-21T12:05:23.654Z"
   },
   {
    "duration": 5,
    "start_time": "2024-10-21T12:05:24.048Z"
   },
   {
    "duration": 127,
    "start_time": "2024-10-21T12:05:24.144Z"
   },
   {
    "duration": 4735,
    "start_time": "2024-10-21T12:05:24.272Z"
   },
   {
    "duration": 127,
    "start_time": "2024-10-21T12:05:29.009Z"
   },
   {
    "duration": 0,
    "start_time": "2024-10-21T12:05:29.143Z"
   },
   {
    "duration": 0,
    "start_time": "2024-10-21T12:05:29.144Z"
   },
   {
    "duration": 1449,
    "start_time": "2024-10-21T12:05:48.330Z"
   },
   {
    "duration": 34,
    "start_time": "2024-10-21T12:05:49.781Z"
   },
   {
    "duration": 2,
    "start_time": "2024-10-21T12:05:49.817Z"
   },
   {
    "duration": 427,
    "start_time": "2024-10-21T12:05:49.821Z"
   },
   {
    "duration": 9,
    "start_time": "2024-10-21T12:05:50.251Z"
   },
   {
    "duration": 9,
    "start_time": "2024-10-21T12:05:50.261Z"
   },
   {
    "duration": 111,
    "start_time": "2024-10-21T12:05:50.271Z"
   },
   {
    "duration": 9,
    "start_time": "2024-10-21T12:05:50.383Z"
   },
   {
    "duration": 236,
    "start_time": "2024-10-21T12:05:50.393Z"
   },
   {
    "duration": 286,
    "start_time": "2024-10-21T12:05:50.642Z"
   },
   {
    "duration": 261,
    "start_time": "2024-10-21T12:05:50.942Z"
   },
   {
    "duration": 6534,
    "start_time": "2024-10-21T12:05:51.205Z"
   },
   {
    "duration": 6510,
    "start_time": "2024-10-21T12:05:57.741Z"
   },
   {
    "duration": 6730,
    "start_time": "2024-10-21T12:06:04.254Z"
   },
   {
    "duration": 547,
    "start_time": "2024-10-21T12:06:10.986Z"
   },
   {
    "duration": 337,
    "start_time": "2024-10-21T12:06:11.535Z"
   },
   {
    "duration": 320,
    "start_time": "2024-10-21T12:06:11.874Z"
   },
   {
    "duration": 455,
    "start_time": "2024-10-21T12:06:12.196Z"
   },
   {
    "duration": 4,
    "start_time": "2024-10-21T12:06:12.653Z"
   },
   {
    "duration": 219,
    "start_time": "2024-10-21T12:06:12.659Z"
   },
   {
    "duration": 4785,
    "start_time": "2024-10-21T12:06:12.880Z"
   },
   {
    "duration": 123,
    "start_time": "2024-10-21T12:06:17.667Z"
   },
   {
    "duration": 0,
    "start_time": "2024-10-21T12:06:17.791Z"
   },
   {
    "duration": 0,
    "start_time": "2024-10-21T12:06:17.793Z"
   },
   {
    "duration": 1456,
    "start_time": "2024-10-21T12:08:19.905Z"
   },
   {
    "duration": 33,
    "start_time": "2024-10-21T12:08:21.363Z"
   },
   {
    "duration": 2,
    "start_time": "2024-10-21T12:08:21.398Z"
   },
   {
    "duration": 394,
    "start_time": "2024-10-21T12:08:21.402Z"
   },
   {
    "duration": 9,
    "start_time": "2024-10-21T12:08:21.799Z"
   },
   {
    "duration": 8,
    "start_time": "2024-10-21T12:08:21.809Z"
   },
   {
    "duration": 6,
    "start_time": "2024-10-21T12:08:21.819Z"
   },
   {
    "duration": 5,
    "start_time": "2024-10-21T12:08:21.826Z"
   },
   {
    "duration": 257,
    "start_time": "2024-10-21T12:08:21.832Z"
   },
   {
    "duration": 285,
    "start_time": "2024-10-21T12:08:22.091Z"
   },
   {
    "duration": 278,
    "start_time": "2024-10-21T12:08:22.378Z"
   },
   {
    "duration": 6421,
    "start_time": "2024-10-21T12:08:22.658Z"
   },
   {
    "duration": 6544,
    "start_time": "2024-10-21T12:08:29.081Z"
   },
   {
    "duration": 6629,
    "start_time": "2024-10-21T12:08:35.628Z"
   },
   {
    "duration": 543,
    "start_time": "2024-10-21T12:08:42.258Z"
   },
   {
    "duration": 390,
    "start_time": "2024-10-21T12:08:42.803Z"
   },
   {
    "duration": 368,
    "start_time": "2024-10-21T12:08:43.195Z"
   },
   {
    "duration": 479,
    "start_time": "2024-10-21T12:08:43.565Z"
   },
   {
    "duration": 3,
    "start_time": "2024-10-21T12:08:44.143Z"
   },
   {
    "duration": 35,
    "start_time": "2024-10-21T12:08:44.148Z"
   },
   {
    "duration": 192,
    "start_time": "2024-10-21T12:08:44.185Z"
   },
   {
    "duration": 0,
    "start_time": "2024-10-21T12:08:44.379Z"
   },
   {
    "duration": 0,
    "start_time": "2024-10-21T12:08:44.380Z"
   },
   {
    "duration": 0,
    "start_time": "2024-10-21T12:08:44.381Z"
   },
   {
    "duration": 1397,
    "start_time": "2024-10-21T12:10:41.043Z"
   },
   {
    "duration": 34,
    "start_time": "2024-10-21T12:10:42.442Z"
   },
   {
    "duration": 3,
    "start_time": "2024-10-21T12:10:42.477Z"
   },
   {
    "duration": 401,
    "start_time": "2024-10-21T12:10:42.482Z"
   },
   {
    "duration": 9,
    "start_time": "2024-10-21T12:10:42.884Z"
   },
   {
    "duration": 22,
    "start_time": "2024-10-21T12:10:42.895Z"
   },
   {
    "duration": 22,
    "start_time": "2024-10-21T12:10:42.918Z"
   },
   {
    "duration": 7,
    "start_time": "2024-10-21T12:10:42.941Z"
   },
   {
    "duration": 242,
    "start_time": "2024-10-21T12:10:42.949Z"
   },
   {
    "duration": 253,
    "start_time": "2024-10-21T12:10:43.194Z"
   },
   {
    "duration": 270,
    "start_time": "2024-10-21T12:10:43.449Z"
   },
   {
    "duration": 6658,
    "start_time": "2024-10-21T12:10:43.721Z"
   },
   {
    "duration": 6537,
    "start_time": "2024-10-21T12:10:50.380Z"
   },
   {
    "duration": 6733,
    "start_time": "2024-10-21T12:10:56.919Z"
   },
   {
    "duration": 550,
    "start_time": "2024-10-21T12:11:03.654Z"
   },
   {
    "duration": 358,
    "start_time": "2024-10-21T12:11:04.206Z"
   },
   {
    "duration": 335,
    "start_time": "2024-10-21T12:11:04.566Z"
   },
   {
    "duration": 348,
    "start_time": "2024-10-21T12:11:04.903Z"
   },
   {
    "duration": 89,
    "start_time": "2024-10-21T12:11:05.253Z"
   },
   {
    "duration": 151,
    "start_time": "2024-10-21T12:11:05.345Z"
   },
   {
    "duration": 5924,
    "start_time": "2024-10-21T12:11:05.501Z"
   },
   {
    "duration": 4922,
    "start_time": "2024-10-21T12:11:11.426Z"
   },
   {
    "duration": 127,
    "start_time": "2024-10-21T12:11:16.350Z"
   },
   {
    "duration": 0,
    "start_time": "2024-10-21T12:11:16.478Z"
   },
   {
    "duration": 1416,
    "start_time": "2024-10-21T12:16:56.983Z"
   },
   {
    "duration": 32,
    "start_time": "2024-10-21T12:16:58.401Z"
   },
   {
    "duration": 3,
    "start_time": "2024-10-21T12:16:58.435Z"
   },
   {
    "duration": 462,
    "start_time": "2024-10-21T12:16:58.440Z"
   },
   {
    "duration": 9,
    "start_time": "2024-10-21T12:16:58.904Z"
   },
   {
    "duration": 47,
    "start_time": "2024-10-21T12:16:58.915Z"
   },
   {
    "duration": 51,
    "start_time": "2024-10-21T12:16:58.964Z"
   },
   {
    "duration": 43,
    "start_time": "2024-10-21T12:16:59.016Z"
   },
   {
    "duration": 313,
    "start_time": "2024-10-21T12:16:59.061Z"
   },
   {
    "duration": 298,
    "start_time": "2024-10-21T12:16:59.377Z"
   },
   {
    "duration": 303,
    "start_time": "2024-10-21T12:16:59.676Z"
   },
   {
    "duration": 6790,
    "start_time": "2024-10-21T12:16:59.981Z"
   },
   {
    "duration": 6592,
    "start_time": "2024-10-21T12:17:06.773Z"
   },
   {
    "duration": 6683,
    "start_time": "2024-10-21T12:17:13.367Z"
   },
   {
    "duration": 521,
    "start_time": "2024-10-21T12:17:20.052Z"
   },
   {
    "duration": 343,
    "start_time": "2024-10-21T12:17:20.574Z"
   },
   {
    "duration": 357,
    "start_time": "2024-10-21T12:17:20.918Z"
   },
   {
    "duration": 370,
    "start_time": "2024-10-21T12:17:21.276Z"
   },
   {
    "duration": 93,
    "start_time": "2024-10-21T12:17:21.651Z"
   },
   {
    "duration": 131,
    "start_time": "2024-10-21T12:17:21.745Z"
   },
   {
    "duration": 5945,
    "start_time": "2024-10-21T12:17:21.877Z"
   },
   {
    "duration": 6104,
    "start_time": "2024-10-21T12:17:27.824Z"
   },
   {
    "duration": 5,
    "start_time": "2024-10-21T12:17:33.929Z"
   },
   {
    "duration": 1430,
    "start_time": "2024-10-21T12:20:17.225Z"
   },
   {
    "duration": 35,
    "start_time": "2024-10-21T12:20:18.657Z"
   },
   {
    "duration": 2,
    "start_time": "2024-10-21T12:20:18.694Z"
   },
   {
    "duration": 455,
    "start_time": "2024-10-21T12:20:18.698Z"
   },
   {
    "duration": 9,
    "start_time": "2024-10-21T12:20:19.156Z"
   },
   {
    "duration": 72,
    "start_time": "2024-10-21T12:20:19.167Z"
   },
   {
    "duration": 26,
    "start_time": "2024-10-21T12:20:19.241Z"
   },
   {
    "duration": 11,
    "start_time": "2024-10-21T12:20:19.269Z"
   },
   {
    "duration": 302,
    "start_time": "2024-10-21T12:20:19.282Z"
   },
   {
    "duration": 270,
    "start_time": "2024-10-21T12:20:19.588Z"
   },
   {
    "duration": 289,
    "start_time": "2024-10-21T12:20:19.859Z"
   },
   {
    "duration": 6613,
    "start_time": "2024-10-21T12:20:20.150Z"
   },
   {
    "duration": 6602,
    "start_time": "2024-10-21T12:20:26.765Z"
   },
   {
    "duration": 6813,
    "start_time": "2024-10-21T12:20:33.369Z"
   },
   {
    "duration": 508,
    "start_time": "2024-10-21T12:20:40.184Z"
   },
   {
    "duration": 374,
    "start_time": "2024-10-21T12:20:40.694Z"
   },
   {
    "duration": 325,
    "start_time": "2024-10-21T12:20:41.069Z"
   },
   {
    "duration": 352,
    "start_time": "2024-10-21T12:20:41.395Z"
   },
   {
    "duration": 4,
    "start_time": "2024-10-21T12:20:41.750Z"
   },
   {
    "duration": 217,
    "start_time": "2024-10-21T12:20:41.755Z"
   },
   {
    "duration": 6001,
    "start_time": "2024-10-21T12:20:41.974Z"
   },
   {
    "duration": 6120,
    "start_time": "2024-10-21T12:20:47.977Z"
   },
   {
    "duration": 5,
    "start_time": "2024-10-21T12:20:54.099Z"
   },
   {
    "duration": 1392,
    "start_time": "2024-10-21T12:28:03.969Z"
   },
   {
    "duration": 346,
    "start_time": "2024-10-21T12:28:05.363Z"
   },
   {
    "duration": 3,
    "start_time": "2024-10-21T12:28:05.711Z"
   },
   {
    "duration": 536,
    "start_time": "2024-10-21T12:28:05.716Z"
   },
   {
    "duration": 9,
    "start_time": "2024-10-21T12:28:06.254Z"
   },
   {
    "duration": 109,
    "start_time": "2024-10-21T12:28:06.264Z"
   },
   {
    "duration": 113,
    "start_time": "2024-10-21T12:28:06.375Z"
   },
   {
    "duration": 39,
    "start_time": "2024-10-21T12:28:06.489Z"
   },
   {
    "duration": 295,
    "start_time": "2024-10-21T12:28:06.530Z"
   },
   {
    "duration": 278,
    "start_time": "2024-10-21T12:28:06.827Z"
   },
   {
    "duration": 284,
    "start_time": "2024-10-21T12:28:07.107Z"
   },
   {
    "duration": 6891,
    "start_time": "2024-10-21T12:28:07.392Z"
   },
   {
    "duration": 6593,
    "start_time": "2024-10-21T12:28:14.285Z"
   },
   {
    "duration": 6591,
    "start_time": "2024-10-21T12:28:20.881Z"
   },
   {
    "duration": 524,
    "start_time": "2024-10-21T12:28:27.474Z"
   },
   {
    "duration": 366,
    "start_time": "2024-10-21T12:28:28.000Z"
   },
   {
    "duration": 309,
    "start_time": "2024-10-21T12:28:28.368Z"
   },
   {
    "duration": 275,
    "start_time": "2024-10-21T12:28:28.679Z"
   },
   {
    "duration": 4,
    "start_time": "2024-10-21T12:28:29.044Z"
   },
   {
    "duration": 119,
    "start_time": "2024-10-21T12:28:29.054Z"
   },
   {
    "duration": 6058,
    "start_time": "2024-10-21T12:28:29.176Z"
   },
   {
    "duration": 8,
    "start_time": "2024-10-21T12:28:35.236Z"
   },
   {
    "duration": 1416,
    "start_time": "2024-10-21T12:30:23.005Z"
   },
   {
    "duration": 53,
    "start_time": "2024-10-21T12:30:24.423Z"
   },
   {
    "duration": 13,
    "start_time": "2024-10-21T12:30:24.478Z"
   },
   {
    "duration": 441,
    "start_time": "2024-10-21T12:30:24.493Z"
   },
   {
    "duration": 11,
    "start_time": "2024-10-21T12:30:24.937Z"
   },
   {
    "duration": 20,
    "start_time": "2024-10-21T12:30:24.950Z"
   },
   {
    "duration": 24,
    "start_time": "2024-10-21T12:30:24.972Z"
   },
   {
    "duration": 14,
    "start_time": "2024-10-21T12:30:24.998Z"
   },
   {
    "duration": 279,
    "start_time": "2024-10-21T12:30:25.014Z"
   },
   {
    "duration": 290,
    "start_time": "2024-10-21T12:30:25.295Z"
   },
   {
    "duration": 284,
    "start_time": "2024-10-21T12:30:25.587Z"
   },
   {
    "duration": 6567,
    "start_time": "2024-10-21T12:30:25.872Z"
   },
   {
    "duration": 6591,
    "start_time": "2024-10-21T12:30:32.440Z"
   },
   {
    "duration": 6459,
    "start_time": "2024-10-21T12:30:39.032Z"
   },
   {
    "duration": 578,
    "start_time": "2024-10-21T12:30:45.493Z"
   },
   {
    "duration": 354,
    "start_time": "2024-10-21T12:30:46.073Z"
   },
   {
    "duration": 342,
    "start_time": "2024-10-21T12:30:46.429Z"
   },
   {
    "duration": 375,
    "start_time": "2024-10-21T12:30:46.773Z"
   },
   {
    "duration": 4,
    "start_time": "2024-10-21T12:30:47.150Z"
   },
   {
    "duration": 128,
    "start_time": "2024-10-21T12:30:47.244Z"
   },
   {
    "duration": 6028,
    "start_time": "2024-10-21T12:30:47.374Z"
   },
   {
    "duration": 4,
    "start_time": "2024-10-21T12:30:53.404Z"
   }
  ],
  "kernelspec": {
   "display_name": "Python 3 (ipykernel)",
   "language": "python",
   "name": "python3"
  },
  "language_info": {
   "codemirror_mode": {
    "name": "ipython",
    "version": 3
   },
   "file_extension": ".py",
   "mimetype": "text/x-python",
   "name": "python",
   "nbconvert_exporter": "python",
   "pygments_lexer": "ipython3",
   "version": "3.12.4"
  },
  "toc": {
   "base_numbering": 1,
   "nav_menu": {},
   "number_sections": true,
   "sideBar": true,
   "skip_h1_title": true,
   "title_cell": "Table of Contents",
   "title_sidebar": "Contents",
   "toc_cell": false,
   "toc_position": {},
   "toc_section_display": true,
   "toc_window_display": false
  }
 },
 "nbformat": 4,
 "nbformat_minor": 4
}
